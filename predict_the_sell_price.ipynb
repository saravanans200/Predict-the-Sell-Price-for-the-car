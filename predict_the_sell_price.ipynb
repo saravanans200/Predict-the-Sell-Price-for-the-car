{
 "cells": [
  {
   "cell_type": "code",
   "execution_count": 1,
   "id": "11129d8b",
   "metadata": {},
   "outputs": [],
   "source": [
    "import numpy as np\n",
    "import pandas as pd\n",
    "import seaborn as sns\n",
    "import matplotlib.pyplot as plt\n",
    "%matplotlib inline\n",
    "\n",
    "import warnings\n",
    "warnings.filterwarnings('ignore')\n",
    "\n",
    "from sklearn.model_selection import train_test_split\n",
    "import statsmodels\n",
    "import statsmodels.api as sm\n",
    "import statsmodels.stats.api as sms\n",
    "import statsmodels.formula.api as smf\n",
    "from statsmodels.graphics.gofplots import qqplot\n",
    "from statsmodels.stats.outliers_influence import variance_inflation_factor\n",
    "import statsmodels.tsa.api as smt\n",
    "from scipy import stats\n",
    "from sklearn.metrics import mean_squared_error\n",
    "from sklearn.metrics import mean_absolute_error\n",
    "from sklearn.preprocessing import StandardScaler\n",
    "\n",
    "from sklearn.linear_model import LinearRegression\n",
    "\n",
    "from sklearn.model_selection import LeaveOneOut\n",
    "from sklearn.model_selection import cross_val_score\n",
    "from sklearn.model_selection import KFold\n",
    "from sklearn import preprocessing\n",
    "from sklearn.linear_model import SGDRegressor\n",
    "\n",
    "# import function for ridge regression\n",
    "from sklearn.linear_model import Ridge\n",
    "\n",
    "# import function for lasso regression\n",
    "from sklearn.linear_model import Lasso\n",
    "\n",
    "# import function for elastic net regression\n",
    "from sklearn.linear_model import ElasticNet\n",
    "\n",
    "# import function to perform GridSearchCV\n",
    "from sklearn.model_selection import GridSearchCV\n",
    "\n",
    "from sklearn.neighbors import KNeighborsRegressor\n",
    "from sklearn.svm import SVR\n",
    "from sklearn.linear_model import BayesianRidge\n",
    "from sklearn.ensemble import RandomForestRegressor\n",
    "from lightgbm import LGBMRegressor\n",
    "\n",
    "from sklearn.metrics import r2_score"
   ]
  },
  {
   "cell_type": "code",
   "execution_count": 2,
   "id": "c3931950",
   "metadata": {},
   "outputs": [],
   "source": [
    "df = pd.read_csv('car data.csv')"
   ]
  },
  {
   "cell_type": "code",
   "execution_count": 3,
   "id": "ad0fed89",
   "metadata": {},
   "outputs": [
    {
     "data": {
      "text/html": [
       "<div>\n",
       "<style scoped>\n",
       "    .dataframe tbody tr th:only-of-type {\n",
       "        vertical-align: middle;\n",
       "    }\n",
       "\n",
       "    .dataframe tbody tr th {\n",
       "        vertical-align: top;\n",
       "    }\n",
       "\n",
       "    .dataframe thead th {\n",
       "        text-align: right;\n",
       "    }\n",
       "</style>\n",
       "<table border=\"1\" class=\"dataframe\">\n",
       "  <thead>\n",
       "    <tr style=\"text-align: right;\">\n",
       "      <th></th>\n",
       "      <th>Car_Name</th>\n",
       "      <th>Year</th>\n",
       "      <th>Selling_Price</th>\n",
       "      <th>Present_Price</th>\n",
       "      <th>Kms_Driven</th>\n",
       "      <th>Fuel_Type</th>\n",
       "      <th>Seller_Type</th>\n",
       "      <th>Transmission</th>\n",
       "      <th>Owner</th>\n",
       "    </tr>\n",
       "  </thead>\n",
       "  <tbody>\n",
       "    <tr>\n",
       "      <th>0</th>\n",
       "      <td>ritz</td>\n",
       "      <td>2014</td>\n",
       "      <td>3.35</td>\n",
       "      <td>5.59</td>\n",
       "      <td>27000</td>\n",
       "      <td>Petrol</td>\n",
       "      <td>Dealer</td>\n",
       "      <td>Manual</td>\n",
       "      <td>0</td>\n",
       "    </tr>\n",
       "    <tr>\n",
       "      <th>1</th>\n",
       "      <td>sx4</td>\n",
       "      <td>2013</td>\n",
       "      <td>4.75</td>\n",
       "      <td>9.54</td>\n",
       "      <td>43000</td>\n",
       "      <td>Diesel</td>\n",
       "      <td>Dealer</td>\n",
       "      <td>Manual</td>\n",
       "      <td>0</td>\n",
       "    </tr>\n",
       "    <tr>\n",
       "      <th>2</th>\n",
       "      <td>ciaz</td>\n",
       "      <td>2017</td>\n",
       "      <td>7.25</td>\n",
       "      <td>9.85</td>\n",
       "      <td>6900</td>\n",
       "      <td>Petrol</td>\n",
       "      <td>Dealer</td>\n",
       "      <td>Manual</td>\n",
       "      <td>0</td>\n",
       "    </tr>\n",
       "    <tr>\n",
       "      <th>3</th>\n",
       "      <td>wagon r</td>\n",
       "      <td>2011</td>\n",
       "      <td>2.85</td>\n",
       "      <td>4.15</td>\n",
       "      <td>5200</td>\n",
       "      <td>Petrol</td>\n",
       "      <td>Dealer</td>\n",
       "      <td>Manual</td>\n",
       "      <td>0</td>\n",
       "    </tr>\n",
       "    <tr>\n",
       "      <th>4</th>\n",
       "      <td>swift</td>\n",
       "      <td>2014</td>\n",
       "      <td>4.60</td>\n",
       "      <td>6.87</td>\n",
       "      <td>42450</td>\n",
       "      <td>Diesel</td>\n",
       "      <td>Dealer</td>\n",
       "      <td>Manual</td>\n",
       "      <td>0</td>\n",
       "    </tr>\n",
       "  </tbody>\n",
       "</table>\n",
       "</div>"
      ],
      "text/plain": [
       "  Car_Name  Year  Selling_Price  Present_Price  Kms_Driven Fuel_Type  \\\n",
       "0     ritz  2014           3.35           5.59       27000    Petrol   \n",
       "1      sx4  2013           4.75           9.54       43000    Diesel   \n",
       "2     ciaz  2017           7.25           9.85        6900    Petrol   \n",
       "3  wagon r  2011           2.85           4.15        5200    Petrol   \n",
       "4    swift  2014           4.60           6.87       42450    Diesel   \n",
       "\n",
       "  Seller_Type Transmission  Owner  \n",
       "0      Dealer       Manual      0  \n",
       "1      Dealer       Manual      0  \n",
       "2      Dealer       Manual      0  \n",
       "3      Dealer       Manual      0  \n",
       "4      Dealer       Manual      0  "
      ]
     },
     "execution_count": 3,
     "metadata": {},
     "output_type": "execute_result"
    }
   ],
   "source": [
    "df.head()"
   ]
  },
  {
   "cell_type": "code",
   "execution_count": 4,
   "id": "a50e9f5b",
   "metadata": {},
   "outputs": [
    {
     "data": {
      "text/plain": [
       "(301, 9)"
      ]
     },
     "execution_count": 4,
     "metadata": {},
     "output_type": "execute_result"
    }
   ],
   "source": [
    "df.shape"
   ]
  },
  {
   "cell_type": "code",
   "execution_count": 5,
   "id": "7b546272",
   "metadata": {},
   "outputs": [
    {
     "name": "stdout",
     "output_type": "stream",
     "text": [
      "Car_Name :  ['ritz' 'sx4' 'ciaz' 'wagon r' 'swift' 'vitara brezza' 's cross'\n",
      " 'alto 800' 'ertiga' 'dzire' 'alto k10' 'ignis' '800' 'baleno' 'omni'\n",
      " 'fortuner' 'innova' 'corolla altis' 'etios cross' 'etios g' 'etios liva'\n",
      " 'corolla' 'etios gd' 'camry' 'land cruiser' 'Royal Enfield Thunder 500'\n",
      " 'UM Renegade Mojave' 'KTM RC200' 'Bajaj Dominar 400'\n",
      " 'Royal Enfield Classic 350' 'KTM RC390' 'Hyosung GT250R'\n",
      " 'Royal Enfield Thunder 350' 'KTM 390 Duke ' 'Mahindra Mojo XT300'\n",
      " 'Bajaj Pulsar RS200' 'Royal Enfield Bullet 350'\n",
      " 'Royal Enfield Classic 500' 'Bajaj Avenger 220' 'Bajaj Avenger 150'\n",
      " 'Honda CB Hornet 160R' 'Yamaha FZ S V 2.0' 'Yamaha FZ 16'\n",
      " 'TVS Apache RTR 160' 'Bajaj Pulsar 150' 'Honda CBR 150' 'Hero Extreme'\n",
      " 'Bajaj Avenger 220 dtsi' 'Bajaj Avenger 150 street' 'Yamaha FZ  v 2.0'\n",
      " 'Bajaj Pulsar  NS 200' 'Bajaj Pulsar 220 F' 'TVS Apache RTR 180'\n",
      " 'Hero Passion X pro' 'Bajaj Pulsar NS 200' 'Yamaha Fazer '\n",
      " 'Honda Activa 4G' 'TVS Sport ' 'Honda Dream Yuga '\n",
      " 'Bajaj Avenger Street 220' 'Hero Splender iSmart' 'Activa 3g'\n",
      " 'Hero Passion Pro' 'Honda CB Trigger' 'Yamaha FZ S '\n",
      " 'Bajaj Pulsar 135 LS' 'Activa 4g' 'Honda CB Unicorn'\n",
      " 'Hero Honda CBZ extreme' 'Honda Karizma' 'Honda Activa 125' 'TVS Jupyter'\n",
      " 'Hero Honda Passion Pro' 'Hero Splender Plus' 'Honda CB Shine'\n",
      " 'Bajaj Discover 100' 'Suzuki Access 125' 'TVS Wego' 'Honda CB twister'\n",
      " 'Hero Glamour' 'Hero Super Splendor' 'Bajaj Discover 125' 'Hero Hunk'\n",
      " 'Hero  Ignitor Disc' 'Hero  CBZ Xtreme' 'Bajaj  ct 100' 'i20' 'grand i10'\n",
      " 'i10' 'eon' 'xcent' 'elantra' 'creta' 'verna' 'city' 'brio' 'amaze'\n",
      " 'jazz']\n",
      "Year :  [2014 2013 2017 2011 2018 2015 2016 2009 2010 2012 2003 2008 2006 2005\n",
      " 2004 2007]\n",
      "Selling_Price :  [ 3.35  4.75  7.25  2.85  4.6   9.25  6.75  6.5   8.75  7.45  6.85  7.5\n",
      "  6.1   2.25  7.75  3.25  2.65  4.9   4.4   2.5   2.9   3.    4.15  6.\n",
      "  1.95  3.1   2.35  4.95  5.5   2.95  4.65  0.35  5.85  2.55  1.25  1.05\n",
      "  5.8  14.9  23.   18.   16.    2.75  3.6   4.5   4.1  19.99  6.95 18.75\n",
      " 23.5  33.   19.75  4.35 14.25  3.95  1.5   5.25 14.5  14.73 12.5   3.49\n",
      " 35.    5.9   3.45  3.8  11.25  3.51  4.   20.75 17.    7.05  9.65  1.75\n",
      "  1.7   1.65  1.45  1.35  1.2   1.15  1.11  1.1   1.    0.95  0.9   0.75\n",
      "  0.8   0.78  0.72  0.65  0.6   0.55  0.52  0.51  0.5   0.48  0.45  0.42\n",
      "  0.4   0.38  0.31  0.3   0.27  0.25  0.2   0.18  0.17  0.16  0.15  0.12\n",
      "  0.1   5.75  5.15  7.9   4.85 11.75  3.15  6.45  3.5   8.25  5.11  2.7\n",
      "  6.15 11.45  3.9   9.1   4.8   2.    5.35  6.25  5.95  5.2   3.75 12.9\n",
      "  5.    5.4   7.2  10.25  8.5   8.4   9.15  6.6   3.65  8.35  6.7   5.3\n",
      " 10.9   8.65  9.7   2.1   8.99  7.4   5.65 10.11  6.4   8.55  9.5  11.5 ]\n",
      "Present_Price :  [ 5.59   9.54   9.85   4.15   6.87   9.83   8.12   8.61   8.89   8.92\n",
      "  3.6   10.38   9.94   7.71   7.21  10.79   5.09   7.98   3.95   5.71\n",
      "  8.01   3.46   4.41   4.99   5.87   6.49   5.98   4.89   7.49   9.95\n",
      "  8.06   7.74   7.2    2.28   3.76   7.87   3.98   7.15   2.69  12.04\n",
      "  9.29  30.61  19.77  10.21  15.04   7.27  18.54   6.8   35.96  18.61\n",
      "  7.7   36.23   6.95  23.15  20.45  13.74  20.91   6.76  12.48   8.93\n",
      " 14.68  12.35  22.83  14.89   7.85  25.39  13.46  23.73  92.6    6.05\n",
      " 16.09  13.7   22.78  18.64   1.9    1.82   1.78   1.6    1.47   2.37\n",
      "  3.45   1.5    2.4    1.4    1.26   1.17   1.75   0.95   0.8    0.87\n",
      "  0.84   0.82   0.81   0.74   1.2    0.787  0.99   0.94   0.826  0.55\n",
      "  0.88   0.51   0.52   0.54   0.73   0.83   0.64   0.72   1.05   0.57\n",
      "  0.48   0.58   0.47   0.75   0.65   0.32   6.79   5.7    4.6    4.43\n",
      "  7.13   8.1   14.79  13.6    9.4    7.6    9.9    6.82   5.35   7.\n",
      "  5.97   5.8    8.7   10.     7.5    8.4    5.9   14.    11.8    8.5\n",
      "  7.9    6.4    6.1   13.09  11.6   11.    12.5  ]\n",
      "Kms_Driven :  [ 27000  43000   6900   5200  42450   2071  18796  33429  20273  42367\n",
      "   2135  51000  15000  26000  77427  41678  35500  41442  25000   2400\n",
      "  50000  45280  56879  20000  55138  16200  44542  45000  51439  54200\n",
      "  39000  49998  48767 127000  10079  62000  24524  46706  58000  45780\n",
      "  64532  65000  25870  37000 104707  40000 135000  90000  70000  40534\n",
      "  39485  41000  40001  40588  78000  47000   6000  11000  59000  88000\n",
      "  12000  71000  56001  83000  36000  72000 135154  80000  89000  23000\n",
      "  38000 197176 142000  56000  58242  75000  29000   8700  50024   3000\n",
      "   1400   4000   1200   4100  21700  16500  18000   7000  35000  17000\n",
      "  17500  33000  14000   5400   5700  46500  11500   1300   5000   3500\n",
      "    500  11800  23500  16000  16600  32000  19000  24000  31000  13000\n",
      "   8000   4300   8600  14500   1000  42000   5500   6700  13700  38600\n",
      "  30000 213000  60000  21000   1900  22000  55000  49000 500000  53000\n",
      "  92233  28200  53460  28282   3493  12479  34797   3435  21125  35775\n",
      "  43535  22671  31604  20114  36100  12500  45078  38488  77632  61381\n",
      "  36198  22517  24678  57000  52132  15001  12900   4492  15141  11849\n",
      "  68000  60241  23709  32322  35866  34000  35934  56701  31427  48000\n",
      "  54242  53675  49562  40324  36054  29223   5600  40023  16002  40026\n",
      "  21200  19434  18828  69341  69562  27600  61203  30753  24800  21780\n",
      "  40126  14465  50456  63000   9010   9800  15059  28569  44000  10980\n",
      "  33019  60076  33988  87934   9000   5464]\n",
      "Fuel_Type :  ['Petrol' 'Diesel' 'CNG']\n",
      "Seller_Type :  ['Dealer' 'Individual']\n",
      "Transmission :  ['Manual' 'Automatic']\n",
      "Owner :  [0 1 3]\n"
     ]
    }
   ],
   "source": [
    "for i in df.columns:\n",
    "    print(i,': ',df[i].unique())"
   ]
  },
  {
   "cell_type": "code",
   "execution_count": 6,
   "id": "0df1177e",
   "metadata": {},
   "outputs": [
    {
     "data": {
      "text/plain": [
       "Car_Name         0\n",
       "Year             0\n",
       "Selling_Price    0\n",
       "Present_Price    0\n",
       "Kms_Driven       0\n",
       "Fuel_Type        0\n",
       "Seller_Type      0\n",
       "Transmission     0\n",
       "Owner            0\n",
       "dtype: int64"
      ]
     },
     "execution_count": 6,
     "metadata": {},
     "output_type": "execute_result"
    }
   ],
   "source": [
    "df.isnull().sum()"
   ]
  },
  {
   "cell_type": "code",
   "execution_count": 7,
   "id": "8b81ed29",
   "metadata": {},
   "outputs": [
    {
     "data": {
      "text/html": [
       "<div>\n",
       "<style scoped>\n",
       "    .dataframe tbody tr th:only-of-type {\n",
       "        vertical-align: middle;\n",
       "    }\n",
       "\n",
       "    .dataframe tbody tr th {\n",
       "        vertical-align: top;\n",
       "    }\n",
       "\n",
       "    .dataframe thead th {\n",
       "        text-align: right;\n",
       "    }\n",
       "</style>\n",
       "<table border=\"1\" class=\"dataframe\">\n",
       "  <thead>\n",
       "    <tr style=\"text-align: right;\">\n",
       "      <th></th>\n",
       "      <th>Year</th>\n",
       "      <th>Selling_Price</th>\n",
       "      <th>Present_Price</th>\n",
       "      <th>Kms_Driven</th>\n",
       "      <th>Owner</th>\n",
       "    </tr>\n",
       "  </thead>\n",
       "  <tbody>\n",
       "    <tr>\n",
       "      <th>count</th>\n",
       "      <td>301.000000</td>\n",
       "      <td>301.000000</td>\n",
       "      <td>301.000000</td>\n",
       "      <td>301.000000</td>\n",
       "      <td>301.000000</td>\n",
       "    </tr>\n",
       "    <tr>\n",
       "      <th>mean</th>\n",
       "      <td>2013.627907</td>\n",
       "      <td>4.661296</td>\n",
       "      <td>7.628472</td>\n",
       "      <td>36947.205980</td>\n",
       "      <td>0.043189</td>\n",
       "    </tr>\n",
       "    <tr>\n",
       "      <th>std</th>\n",
       "      <td>2.891554</td>\n",
       "      <td>5.082812</td>\n",
       "      <td>8.644115</td>\n",
       "      <td>38886.883882</td>\n",
       "      <td>0.247915</td>\n",
       "    </tr>\n",
       "    <tr>\n",
       "      <th>min</th>\n",
       "      <td>2003.000000</td>\n",
       "      <td>0.100000</td>\n",
       "      <td>0.320000</td>\n",
       "      <td>500.000000</td>\n",
       "      <td>0.000000</td>\n",
       "    </tr>\n",
       "    <tr>\n",
       "      <th>25%</th>\n",
       "      <td>2012.000000</td>\n",
       "      <td>0.900000</td>\n",
       "      <td>1.200000</td>\n",
       "      <td>15000.000000</td>\n",
       "      <td>0.000000</td>\n",
       "    </tr>\n",
       "    <tr>\n",
       "      <th>50%</th>\n",
       "      <td>2014.000000</td>\n",
       "      <td>3.600000</td>\n",
       "      <td>6.400000</td>\n",
       "      <td>32000.000000</td>\n",
       "      <td>0.000000</td>\n",
       "    </tr>\n",
       "    <tr>\n",
       "      <th>75%</th>\n",
       "      <td>2016.000000</td>\n",
       "      <td>6.000000</td>\n",
       "      <td>9.900000</td>\n",
       "      <td>48767.000000</td>\n",
       "      <td>0.000000</td>\n",
       "    </tr>\n",
       "    <tr>\n",
       "      <th>max</th>\n",
       "      <td>2018.000000</td>\n",
       "      <td>35.000000</td>\n",
       "      <td>92.600000</td>\n",
       "      <td>500000.000000</td>\n",
       "      <td>3.000000</td>\n",
       "    </tr>\n",
       "  </tbody>\n",
       "</table>\n",
       "</div>"
      ],
      "text/plain": [
       "              Year  Selling_Price  Present_Price     Kms_Driven       Owner\n",
       "count   301.000000     301.000000     301.000000     301.000000  301.000000\n",
       "mean   2013.627907       4.661296       7.628472   36947.205980    0.043189\n",
       "std       2.891554       5.082812       8.644115   38886.883882    0.247915\n",
       "min    2003.000000       0.100000       0.320000     500.000000    0.000000\n",
       "25%    2012.000000       0.900000       1.200000   15000.000000    0.000000\n",
       "50%    2014.000000       3.600000       6.400000   32000.000000    0.000000\n",
       "75%    2016.000000       6.000000       9.900000   48767.000000    0.000000\n",
       "max    2018.000000      35.000000      92.600000  500000.000000    3.000000"
      ]
     },
     "execution_count": 7,
     "metadata": {},
     "output_type": "execute_result"
    }
   ],
   "source": [
    "df.describe()"
   ]
  },
  {
   "cell_type": "code",
   "execution_count": 8,
   "id": "2617f488",
   "metadata": {},
   "outputs": [],
   "source": [
    "final_dataset = df.drop('Car_Name',axis=1)"
   ]
  },
  {
   "cell_type": "code",
   "execution_count": 9,
   "id": "285e3aaf",
   "metadata": {
    "scrolled": true
   },
   "outputs": [
    {
     "data": {
      "text/html": [
       "<div>\n",
       "<style scoped>\n",
       "    .dataframe tbody tr th:only-of-type {\n",
       "        vertical-align: middle;\n",
       "    }\n",
       "\n",
       "    .dataframe tbody tr th {\n",
       "        vertical-align: top;\n",
       "    }\n",
       "\n",
       "    .dataframe thead th {\n",
       "        text-align: right;\n",
       "    }\n",
       "</style>\n",
       "<table border=\"1\" class=\"dataframe\">\n",
       "  <thead>\n",
       "    <tr style=\"text-align: right;\">\n",
       "      <th></th>\n",
       "      <th>Year</th>\n",
       "      <th>Selling_Price</th>\n",
       "      <th>Present_Price</th>\n",
       "      <th>Kms_Driven</th>\n",
       "      <th>Fuel_Type</th>\n",
       "      <th>Seller_Type</th>\n",
       "      <th>Transmission</th>\n",
       "      <th>Owner</th>\n",
       "    </tr>\n",
       "  </thead>\n",
       "  <tbody>\n",
       "    <tr>\n",
       "      <th>0</th>\n",
       "      <td>2014</td>\n",
       "      <td>3.35</td>\n",
       "      <td>5.59</td>\n",
       "      <td>27000</td>\n",
       "      <td>Petrol</td>\n",
       "      <td>Dealer</td>\n",
       "      <td>Manual</td>\n",
       "      <td>0</td>\n",
       "    </tr>\n",
       "    <tr>\n",
       "      <th>1</th>\n",
       "      <td>2013</td>\n",
       "      <td>4.75</td>\n",
       "      <td>9.54</td>\n",
       "      <td>43000</td>\n",
       "      <td>Diesel</td>\n",
       "      <td>Dealer</td>\n",
       "      <td>Manual</td>\n",
       "      <td>0</td>\n",
       "    </tr>\n",
       "    <tr>\n",
       "      <th>2</th>\n",
       "      <td>2017</td>\n",
       "      <td>7.25</td>\n",
       "      <td>9.85</td>\n",
       "      <td>6900</td>\n",
       "      <td>Petrol</td>\n",
       "      <td>Dealer</td>\n",
       "      <td>Manual</td>\n",
       "      <td>0</td>\n",
       "    </tr>\n",
       "    <tr>\n",
       "      <th>3</th>\n",
       "      <td>2011</td>\n",
       "      <td>2.85</td>\n",
       "      <td>4.15</td>\n",
       "      <td>5200</td>\n",
       "      <td>Petrol</td>\n",
       "      <td>Dealer</td>\n",
       "      <td>Manual</td>\n",
       "      <td>0</td>\n",
       "    </tr>\n",
       "    <tr>\n",
       "      <th>4</th>\n",
       "      <td>2014</td>\n",
       "      <td>4.60</td>\n",
       "      <td>6.87</td>\n",
       "      <td>42450</td>\n",
       "      <td>Diesel</td>\n",
       "      <td>Dealer</td>\n",
       "      <td>Manual</td>\n",
       "      <td>0</td>\n",
       "    </tr>\n",
       "    <tr>\n",
       "      <th>...</th>\n",
       "      <td>...</td>\n",
       "      <td>...</td>\n",
       "      <td>...</td>\n",
       "      <td>...</td>\n",
       "      <td>...</td>\n",
       "      <td>...</td>\n",
       "      <td>...</td>\n",
       "      <td>...</td>\n",
       "    </tr>\n",
       "    <tr>\n",
       "      <th>296</th>\n",
       "      <td>2016</td>\n",
       "      <td>9.50</td>\n",
       "      <td>11.60</td>\n",
       "      <td>33988</td>\n",
       "      <td>Diesel</td>\n",
       "      <td>Dealer</td>\n",
       "      <td>Manual</td>\n",
       "      <td>0</td>\n",
       "    </tr>\n",
       "    <tr>\n",
       "      <th>297</th>\n",
       "      <td>2015</td>\n",
       "      <td>4.00</td>\n",
       "      <td>5.90</td>\n",
       "      <td>60000</td>\n",
       "      <td>Petrol</td>\n",
       "      <td>Dealer</td>\n",
       "      <td>Manual</td>\n",
       "      <td>0</td>\n",
       "    </tr>\n",
       "    <tr>\n",
       "      <th>298</th>\n",
       "      <td>2009</td>\n",
       "      <td>3.35</td>\n",
       "      <td>11.00</td>\n",
       "      <td>87934</td>\n",
       "      <td>Petrol</td>\n",
       "      <td>Dealer</td>\n",
       "      <td>Manual</td>\n",
       "      <td>0</td>\n",
       "    </tr>\n",
       "    <tr>\n",
       "      <th>299</th>\n",
       "      <td>2017</td>\n",
       "      <td>11.50</td>\n",
       "      <td>12.50</td>\n",
       "      <td>9000</td>\n",
       "      <td>Diesel</td>\n",
       "      <td>Dealer</td>\n",
       "      <td>Manual</td>\n",
       "      <td>0</td>\n",
       "    </tr>\n",
       "    <tr>\n",
       "      <th>300</th>\n",
       "      <td>2016</td>\n",
       "      <td>5.30</td>\n",
       "      <td>5.90</td>\n",
       "      <td>5464</td>\n",
       "      <td>Petrol</td>\n",
       "      <td>Dealer</td>\n",
       "      <td>Manual</td>\n",
       "      <td>0</td>\n",
       "    </tr>\n",
       "  </tbody>\n",
       "</table>\n",
       "<p>301 rows × 8 columns</p>\n",
       "</div>"
      ],
      "text/plain": [
       "     Year  Selling_Price  Present_Price  Kms_Driven Fuel_Type Seller_Type  \\\n",
       "0    2014           3.35           5.59       27000    Petrol      Dealer   \n",
       "1    2013           4.75           9.54       43000    Diesel      Dealer   \n",
       "2    2017           7.25           9.85        6900    Petrol      Dealer   \n",
       "3    2011           2.85           4.15        5200    Petrol      Dealer   \n",
       "4    2014           4.60           6.87       42450    Diesel      Dealer   \n",
       "..    ...            ...            ...         ...       ...         ...   \n",
       "296  2016           9.50          11.60       33988    Diesel      Dealer   \n",
       "297  2015           4.00           5.90       60000    Petrol      Dealer   \n",
       "298  2009           3.35          11.00       87934    Petrol      Dealer   \n",
       "299  2017          11.50          12.50        9000    Diesel      Dealer   \n",
       "300  2016           5.30           5.90        5464    Petrol      Dealer   \n",
       "\n",
       "    Transmission  Owner  \n",
       "0         Manual      0  \n",
       "1         Manual      0  \n",
       "2         Manual      0  \n",
       "3         Manual      0  \n",
       "4         Manual      0  \n",
       "..           ...    ...  \n",
       "296       Manual      0  \n",
       "297       Manual      0  \n",
       "298       Manual      0  \n",
       "299       Manual      0  \n",
       "300       Manual      0  \n",
       "\n",
       "[301 rows x 8 columns]"
      ]
     },
     "execution_count": 9,
     "metadata": {},
     "output_type": "execute_result"
    }
   ],
   "source": [
    "final_dataset"
   ]
  },
  {
   "cell_type": "code",
   "execution_count": 10,
   "id": "0e4fe15b",
   "metadata": {},
   "outputs": [
    {
     "data": {
      "image/png": "[encoded data removed]",
      "text/plain": [
       "<Figure size 1440x1440 with 5 Axes>"
      ]
     },
     "metadata": {
      "needs_background": "light"
     },
     "output_type": "display_data"
    }
   ],
   "source": [
    "k = 1\n",
    "plt.figure(figsize =(20,20))\n",
    "for i in final_dataset.columns:\n",
    "    if(final_dataset[i].dtypes != 'object'):\n",
    "        plt.subplot(5,3,k)\n",
    "        sns.boxplot(x=final_dataset[i])\n",
    "        k+=1"
   ]
  },
  {
   "cell_type": "code",
   "execution_count": 11,
   "id": "b3db375e",
   "metadata": {},
   "outputs": [],
   "source": [
    "final_dataset['Current_year'] = 2021"
   ]
  },
  {
   "cell_type": "code",
   "execution_count": 12,
   "id": "d8cb871c",
   "metadata": {},
   "outputs": [
    {
     "data": {
      "text/html": [
       "<div>\n",
       "<style scoped>\n",
       "    .dataframe tbody tr th:only-of-type {\n",
       "        vertical-align: middle;\n",
       "    }\n",
       "\n",
       "    .dataframe tbody tr th {\n",
       "        vertical-align: top;\n",
       "    }\n",
       "\n",
       "    .dataframe thead th {\n",
       "        text-align: right;\n",
       "    }\n",
       "</style>\n",
       "<table border=\"1\" class=\"dataframe\">\n",
       "  <thead>\n",
       "    <tr style=\"text-align: right;\">\n",
       "      <th></th>\n",
       "      <th>Year</th>\n",
       "      <th>Selling_Price</th>\n",
       "      <th>Present_Price</th>\n",
       "      <th>Kms_Driven</th>\n",
       "      <th>Fuel_Type</th>\n",
       "      <th>Seller_Type</th>\n",
       "      <th>Transmission</th>\n",
       "      <th>Owner</th>\n",
       "      <th>Current_year</th>\n",
       "    </tr>\n",
       "  </thead>\n",
       "  <tbody>\n",
       "    <tr>\n",
       "      <th>0</th>\n",
       "      <td>2014</td>\n",
       "      <td>3.35</td>\n",
       "      <td>5.59</td>\n",
       "      <td>27000</td>\n",
       "      <td>Petrol</td>\n",
       "      <td>Dealer</td>\n",
       "      <td>Manual</td>\n",
       "      <td>0</td>\n",
       "      <td>2021</td>\n",
       "    </tr>\n",
       "    <tr>\n",
       "      <th>1</th>\n",
       "      <td>2013</td>\n",
       "      <td>4.75</td>\n",
       "      <td>9.54</td>\n",
       "      <td>43000</td>\n",
       "      <td>Diesel</td>\n",
       "      <td>Dealer</td>\n",
       "      <td>Manual</td>\n",
       "      <td>0</td>\n",
       "      <td>2021</td>\n",
       "    </tr>\n",
       "    <tr>\n",
       "      <th>2</th>\n",
       "      <td>2017</td>\n",
       "      <td>7.25</td>\n",
       "      <td>9.85</td>\n",
       "      <td>6900</td>\n",
       "      <td>Petrol</td>\n",
       "      <td>Dealer</td>\n",
       "      <td>Manual</td>\n",
       "      <td>0</td>\n",
       "      <td>2021</td>\n",
       "    </tr>\n",
       "    <tr>\n",
       "      <th>3</th>\n",
       "      <td>2011</td>\n",
       "      <td>2.85</td>\n",
       "      <td>4.15</td>\n",
       "      <td>5200</td>\n",
       "      <td>Petrol</td>\n",
       "      <td>Dealer</td>\n",
       "      <td>Manual</td>\n",
       "      <td>0</td>\n",
       "      <td>2021</td>\n",
       "    </tr>\n",
       "    <tr>\n",
       "      <th>4</th>\n",
       "      <td>2014</td>\n",
       "      <td>4.60</td>\n",
       "      <td>6.87</td>\n",
       "      <td>42450</td>\n",
       "      <td>Diesel</td>\n",
       "      <td>Dealer</td>\n",
       "      <td>Manual</td>\n",
       "      <td>0</td>\n",
       "      <td>2021</td>\n",
       "    </tr>\n",
       "  </tbody>\n",
       "</table>\n",
       "</div>"
      ],
      "text/plain": [
       "   Year  Selling_Price  Present_Price  Kms_Driven Fuel_Type Seller_Type  \\\n",
       "0  2014           3.35           5.59       27000    Petrol      Dealer   \n",
       "1  2013           4.75           9.54       43000    Diesel      Dealer   \n",
       "2  2017           7.25           9.85        6900    Petrol      Dealer   \n",
       "3  2011           2.85           4.15        5200    Petrol      Dealer   \n",
       "4  2014           4.60           6.87       42450    Diesel      Dealer   \n",
       "\n",
       "  Transmission  Owner  Current_year  \n",
       "0       Manual      0          2021  \n",
       "1       Manual      0          2021  \n",
       "2       Manual      0          2021  \n",
       "3       Manual      0          2021  \n",
       "4       Manual      0          2021  "
      ]
     },
     "execution_count": 12,
     "metadata": {},
     "output_type": "execute_result"
    }
   ],
   "source": [
    "final_dataset.head()"
   ]
  },
  {
   "cell_type": "code",
   "execution_count": 13,
   "id": "637d4fe1",
   "metadata": {},
   "outputs": [],
   "source": [
    "final_dataset['no_year']= 2021 - final_dataset['Year']"
   ]
  },
  {
   "cell_type": "code",
   "execution_count": 14,
   "id": "77ab87a4",
   "metadata": {},
   "outputs": [
    {
     "data": {
      "text/html": [
       "<div>\n",
       "<style scoped>\n",
       "    .dataframe tbody tr th:only-of-type {\n",
       "        vertical-align: middle;\n",
       "    }\n",
       "\n",
       "    .dataframe tbody tr th {\n",
       "        vertical-align: top;\n",
       "    }\n",
       "\n",
       "    .dataframe thead th {\n",
       "        text-align: right;\n",
       "    }\n",
       "</style>\n",
       "<table border=\"1\" class=\"dataframe\">\n",
       "  <thead>\n",
       "    <tr style=\"text-align: right;\">\n",
       "      <th></th>\n",
       "      <th>Year</th>\n",
       "      <th>Selling_Price</th>\n",
       "      <th>Present_Price</th>\n",
       "      <th>Kms_Driven</th>\n",
       "      <th>Fuel_Type</th>\n",
       "      <th>Seller_Type</th>\n",
       "      <th>Transmission</th>\n",
       "      <th>Owner</th>\n",
       "      <th>Current_year</th>\n",
       "      <th>no_year</th>\n",
       "    </tr>\n",
       "  </thead>\n",
       "  <tbody>\n",
       "    <tr>\n",
       "      <th>0</th>\n",
       "      <td>2014</td>\n",
       "      <td>3.35</td>\n",
       "      <td>5.59</td>\n",
       "      <td>27000</td>\n",
       "      <td>Petrol</td>\n",
       "      <td>Dealer</td>\n",
       "      <td>Manual</td>\n",
       "      <td>0</td>\n",
       "      <td>2021</td>\n",
       "      <td>7</td>\n",
       "    </tr>\n",
       "    <tr>\n",
       "      <th>1</th>\n",
       "      <td>2013</td>\n",
       "      <td>4.75</td>\n",
       "      <td>9.54</td>\n",
       "      <td>43000</td>\n",
       "      <td>Diesel</td>\n",
       "      <td>Dealer</td>\n",
       "      <td>Manual</td>\n",
       "      <td>0</td>\n",
       "      <td>2021</td>\n",
       "      <td>8</td>\n",
       "    </tr>\n",
       "    <tr>\n",
       "      <th>2</th>\n",
       "      <td>2017</td>\n",
       "      <td>7.25</td>\n",
       "      <td>9.85</td>\n",
       "      <td>6900</td>\n",
       "      <td>Petrol</td>\n",
       "      <td>Dealer</td>\n",
       "      <td>Manual</td>\n",
       "      <td>0</td>\n",
       "      <td>2021</td>\n",
       "      <td>4</td>\n",
       "    </tr>\n",
       "    <tr>\n",
       "      <th>3</th>\n",
       "      <td>2011</td>\n",
       "      <td>2.85</td>\n",
       "      <td>4.15</td>\n",
       "      <td>5200</td>\n",
       "      <td>Petrol</td>\n",
       "      <td>Dealer</td>\n",
       "      <td>Manual</td>\n",
       "      <td>0</td>\n",
       "      <td>2021</td>\n",
       "      <td>10</td>\n",
       "    </tr>\n",
       "    <tr>\n",
       "      <th>4</th>\n",
       "      <td>2014</td>\n",
       "      <td>4.60</td>\n",
       "      <td>6.87</td>\n",
       "      <td>42450</td>\n",
       "      <td>Diesel</td>\n",
       "      <td>Dealer</td>\n",
       "      <td>Manual</td>\n",
       "      <td>0</td>\n",
       "      <td>2021</td>\n",
       "      <td>7</td>\n",
       "    </tr>\n",
       "  </tbody>\n",
       "</table>\n",
       "</div>"
      ],
      "text/plain": [
       "   Year  Selling_Price  Present_Price  Kms_Driven Fuel_Type Seller_Type  \\\n",
       "0  2014           3.35           5.59       27000    Petrol      Dealer   \n",
       "1  2013           4.75           9.54       43000    Diesel      Dealer   \n",
       "2  2017           7.25           9.85        6900    Petrol      Dealer   \n",
       "3  2011           2.85           4.15        5200    Petrol      Dealer   \n",
       "4  2014           4.60           6.87       42450    Diesel      Dealer   \n",
       "\n",
       "  Transmission  Owner  Current_year  no_year  \n",
       "0       Manual      0          2021        7  \n",
       "1       Manual      0          2021        8  \n",
       "2       Manual      0          2021        4  \n",
       "3       Manual      0          2021       10  \n",
       "4       Manual      0          2021        7  "
      ]
     },
     "execution_count": 14,
     "metadata": {},
     "output_type": "execute_result"
    }
   ],
   "source": [
    "final_dataset.head()"
   ]
  },
  {
   "cell_type": "code",
   "execution_count": 15,
   "id": "bcd8e3c9",
   "metadata": {},
   "outputs": [],
   "source": [
    "final_dataset.drop(['Year','Current_year'],axis=1,inplace = True)"
   ]
  },
  {
   "cell_type": "code",
   "execution_count": 16,
   "id": "a418a0a3",
   "metadata": {
    "scrolled": true
   },
   "outputs": [
    {
     "data": {
      "text/html": [
       "<div>\n",
       "<style scoped>\n",
       "    .dataframe tbody tr th:only-of-type {\n",
       "        vertical-align: middle;\n",
       "    }\n",
       "\n",
       "    .dataframe tbody tr th {\n",
       "        vertical-align: top;\n",
       "    }\n",
       "\n",
       "    .dataframe thead th {\n",
       "        text-align: right;\n",
       "    }\n",
       "</style>\n",
       "<table border=\"1\" class=\"dataframe\">\n",
       "  <thead>\n",
       "    <tr style=\"text-align: right;\">\n",
       "      <th></th>\n",
       "      <th>Selling_Price</th>\n",
       "      <th>Present_Price</th>\n",
       "      <th>Kms_Driven</th>\n",
       "      <th>Fuel_Type</th>\n",
       "      <th>Seller_Type</th>\n",
       "      <th>Transmission</th>\n",
       "      <th>Owner</th>\n",
       "      <th>no_year</th>\n",
       "    </tr>\n",
       "  </thead>\n",
       "  <tbody>\n",
       "    <tr>\n",
       "      <th>0</th>\n",
       "      <td>3.35</td>\n",
       "      <td>5.59</td>\n",
       "      <td>27000</td>\n",
       "      <td>Petrol</td>\n",
       "      <td>Dealer</td>\n",
       "      <td>Manual</td>\n",
       "      <td>0</td>\n",
       "      <td>7</td>\n",
       "    </tr>\n",
       "    <tr>\n",
       "      <th>1</th>\n",
       "      <td>4.75</td>\n",
       "      <td>9.54</td>\n",
       "      <td>43000</td>\n",
       "      <td>Diesel</td>\n",
       "      <td>Dealer</td>\n",
       "      <td>Manual</td>\n",
       "      <td>0</td>\n",
       "      <td>8</td>\n",
       "    </tr>\n",
       "    <tr>\n",
       "      <th>2</th>\n",
       "      <td>7.25</td>\n",
       "      <td>9.85</td>\n",
       "      <td>6900</td>\n",
       "      <td>Petrol</td>\n",
       "      <td>Dealer</td>\n",
       "      <td>Manual</td>\n",
       "      <td>0</td>\n",
       "      <td>4</td>\n",
       "    </tr>\n",
       "    <tr>\n",
       "      <th>3</th>\n",
       "      <td>2.85</td>\n",
       "      <td>4.15</td>\n",
       "      <td>5200</td>\n",
       "      <td>Petrol</td>\n",
       "      <td>Dealer</td>\n",
       "      <td>Manual</td>\n",
       "      <td>0</td>\n",
       "      <td>10</td>\n",
       "    </tr>\n",
       "    <tr>\n",
       "      <th>4</th>\n",
       "      <td>4.60</td>\n",
       "      <td>6.87</td>\n",
       "      <td>42450</td>\n",
       "      <td>Diesel</td>\n",
       "      <td>Dealer</td>\n",
       "      <td>Manual</td>\n",
       "      <td>0</td>\n",
       "      <td>7</td>\n",
       "    </tr>\n",
       "  </tbody>\n",
       "</table>\n",
       "</div>"
      ],
      "text/plain": [
       "   Selling_Price  Present_Price  Kms_Driven Fuel_Type Seller_Type  \\\n",
       "0           3.35           5.59       27000    Petrol      Dealer   \n",
       "1           4.75           9.54       43000    Diesel      Dealer   \n",
       "2           7.25           9.85        6900    Petrol      Dealer   \n",
       "3           2.85           4.15        5200    Petrol      Dealer   \n",
       "4           4.60           6.87       42450    Diesel      Dealer   \n",
       "\n",
       "  Transmission  Owner  no_year  \n",
       "0       Manual      0        7  \n",
       "1       Manual      0        8  \n",
       "2       Manual      0        4  \n",
       "3       Manual      0       10  \n",
       "4       Manual      0        7  "
      ]
     },
     "execution_count": 16,
     "metadata": {},
     "output_type": "execute_result"
    }
   ],
   "source": [
    "final_dataset.head()"
   ]
  },
  {
   "cell_type": "code",
   "execution_count": 17,
   "id": "61fbbf80",
   "metadata": {},
   "outputs": [],
   "source": [
    "final_dataset = pd.get_dummies(final_dataset,drop_first=True)"
   ]
  },
  {
   "cell_type": "code",
   "execution_count": 18,
   "id": "87c45bad",
   "metadata": {},
   "outputs": [
    {
     "data": {
      "text/html": [
       "<div>\n",
       "<style scoped>\n",
       "    .dataframe tbody tr th:only-of-type {\n",
       "        vertical-align: middle;\n",
       "    }\n",
       "\n",
       "    .dataframe tbody tr th {\n",
       "        vertical-align: top;\n",
       "    }\n",
       "\n",
       "    .dataframe thead th {\n",
       "        text-align: right;\n",
       "    }\n",
       "</style>\n",
       "<table border=\"1\" class=\"dataframe\">\n",
       "  <thead>\n",
       "    <tr style=\"text-align: right;\">\n",
       "      <th></th>\n",
       "      <th>Selling_Price</th>\n",
       "      <th>Present_Price</th>\n",
       "      <th>Kms_Driven</th>\n",
       "      <th>Owner</th>\n",
       "      <th>no_year</th>\n",
       "      <th>Fuel_Type_Diesel</th>\n",
       "      <th>Fuel_Type_Petrol</th>\n",
       "      <th>Seller_Type_Individual</th>\n",
       "      <th>Transmission_Manual</th>\n",
       "    </tr>\n",
       "  </thead>\n",
       "  <tbody>\n",
       "    <tr>\n",
       "      <th>0</th>\n",
       "      <td>3.35</td>\n",
       "      <td>5.59</td>\n",
       "      <td>27000</td>\n",
       "      <td>0</td>\n",
       "      <td>7</td>\n",
       "      <td>0</td>\n",
       "      <td>1</td>\n",
       "      <td>0</td>\n",
       "      <td>1</td>\n",
       "    </tr>\n",
       "    <tr>\n",
       "      <th>1</th>\n",
       "      <td>4.75</td>\n",
       "      <td>9.54</td>\n",
       "      <td>43000</td>\n",
       "      <td>0</td>\n",
       "      <td>8</td>\n",
       "      <td>1</td>\n",
       "      <td>0</td>\n",
       "      <td>0</td>\n",
       "      <td>1</td>\n",
       "    </tr>\n",
       "    <tr>\n",
       "      <th>2</th>\n",
       "      <td>7.25</td>\n",
       "      <td>9.85</td>\n",
       "      <td>6900</td>\n",
       "      <td>0</td>\n",
       "      <td>4</td>\n",
       "      <td>0</td>\n",
       "      <td>1</td>\n",
       "      <td>0</td>\n",
       "      <td>1</td>\n",
       "    </tr>\n",
       "    <tr>\n",
       "      <th>3</th>\n",
       "      <td>2.85</td>\n",
       "      <td>4.15</td>\n",
       "      <td>5200</td>\n",
       "      <td>0</td>\n",
       "      <td>10</td>\n",
       "      <td>0</td>\n",
       "      <td>1</td>\n",
       "      <td>0</td>\n",
       "      <td>1</td>\n",
       "    </tr>\n",
       "    <tr>\n",
       "      <th>4</th>\n",
       "      <td>4.60</td>\n",
       "      <td>6.87</td>\n",
       "      <td>42450</td>\n",
       "      <td>0</td>\n",
       "      <td>7</td>\n",
       "      <td>1</td>\n",
       "      <td>0</td>\n",
       "      <td>0</td>\n",
       "      <td>1</td>\n",
       "    </tr>\n",
       "    <tr>\n",
       "      <th>...</th>\n",
       "      <td>...</td>\n",
       "      <td>...</td>\n",
       "      <td>...</td>\n",
       "      <td>...</td>\n",
       "      <td>...</td>\n",
       "      <td>...</td>\n",
       "      <td>...</td>\n",
       "      <td>...</td>\n",
       "      <td>...</td>\n",
       "    </tr>\n",
       "    <tr>\n",
       "      <th>296</th>\n",
       "      <td>9.50</td>\n",
       "      <td>11.60</td>\n",
       "      <td>33988</td>\n",
       "      <td>0</td>\n",
       "      <td>5</td>\n",
       "      <td>1</td>\n",
       "      <td>0</td>\n",
       "      <td>0</td>\n",
       "      <td>1</td>\n",
       "    </tr>\n",
       "    <tr>\n",
       "      <th>297</th>\n",
       "      <td>4.00</td>\n",
       "      <td>5.90</td>\n",
       "      <td>60000</td>\n",
       "      <td>0</td>\n",
       "      <td>6</td>\n",
       "      <td>0</td>\n",
       "      <td>1</td>\n",
       "      <td>0</td>\n",
       "      <td>1</td>\n",
       "    </tr>\n",
       "    <tr>\n",
       "      <th>298</th>\n",
       "      <td>3.35</td>\n",
       "      <td>11.00</td>\n",
       "      <td>87934</td>\n",
       "      <td>0</td>\n",
       "      <td>12</td>\n",
       "      <td>0</td>\n",
       "      <td>1</td>\n",
       "      <td>0</td>\n",
       "      <td>1</td>\n",
       "    </tr>\n",
       "    <tr>\n",
       "      <th>299</th>\n",
       "      <td>11.50</td>\n",
       "      <td>12.50</td>\n",
       "      <td>9000</td>\n",
       "      <td>0</td>\n",
       "      <td>4</td>\n",
       "      <td>1</td>\n",
       "      <td>0</td>\n",
       "      <td>0</td>\n",
       "      <td>1</td>\n",
       "    </tr>\n",
       "    <tr>\n",
       "      <th>300</th>\n",
       "      <td>5.30</td>\n",
       "      <td>5.90</td>\n",
       "      <td>5464</td>\n",
       "      <td>0</td>\n",
       "      <td>5</td>\n",
       "      <td>0</td>\n",
       "      <td>1</td>\n",
       "      <td>0</td>\n",
       "      <td>1</td>\n",
       "    </tr>\n",
       "  </tbody>\n",
       "</table>\n",
       "<p>301 rows × 9 columns</p>\n",
       "</div>"
      ],
      "text/plain": [
       "     Selling_Price  Present_Price  Kms_Driven  Owner  no_year  \\\n",
       "0             3.35           5.59       27000      0        7   \n",
       "1             4.75           9.54       43000      0        8   \n",
       "2             7.25           9.85        6900      0        4   \n",
       "3             2.85           4.15        5200      0       10   \n",
       "4             4.60           6.87       42450      0        7   \n",
       "..             ...            ...         ...    ...      ...   \n",
       "296           9.50          11.60       33988      0        5   \n",
       "297           4.00           5.90       60000      0        6   \n",
       "298           3.35          11.00       87934      0       12   \n",
       "299          11.50          12.50        9000      0        4   \n",
       "300           5.30           5.90        5464      0        5   \n",
       "\n",
       "     Fuel_Type_Diesel  Fuel_Type_Petrol  Seller_Type_Individual  \\\n",
       "0                   0                 1                       0   \n",
       "1                   1                 0                       0   \n",
       "2                   0                 1                       0   \n",
       "3                   0                 1                       0   \n",
       "4                   1                 0                       0   \n",
       "..                ...               ...                     ...   \n",
       "296                 1                 0                       0   \n",
       "297                 0                 1                       0   \n",
       "298                 0                 1                       0   \n",
       "299                 1                 0                       0   \n",
       "300                 0                 1                       0   \n",
       "\n",
       "     Transmission_Manual  \n",
       "0                      1  \n",
       "1                      1  \n",
       "2                      1  \n",
       "3                      1  \n",
       "4                      1  \n",
       "..                   ...  \n",
       "296                    1  \n",
       "297                    1  \n",
       "298                    1  \n",
       "299                    1  \n",
       "300                    1  \n",
       "\n",
       "[301 rows x 9 columns]"
      ]
     },
     "execution_count": 18,
     "metadata": {},
     "output_type": "execute_result"
    }
   ],
   "source": [
    "final_dataset"
   ]
  },
  {
   "cell_type": "code",
   "execution_count": 19,
   "id": "4cf6f9f4",
   "metadata": {},
   "outputs": [
    {
     "data": {
      "text/html": [
       "<div>\n",
       "<style scoped>\n",
       "    .dataframe tbody tr th:only-of-type {\n",
       "        vertical-align: middle;\n",
       "    }\n",
       "\n",
       "    .dataframe tbody tr th {\n",
       "        vertical-align: top;\n",
       "    }\n",
       "\n",
       "    .dataframe thead th {\n",
       "        text-align: right;\n",
       "    }\n",
       "</style>\n",
       "<table border=\"1\" class=\"dataframe\">\n",
       "  <thead>\n",
       "    <tr style=\"text-align: right;\">\n",
       "      <th></th>\n",
       "      <th>Selling_Price</th>\n",
       "      <th>Present_Price</th>\n",
       "      <th>Kms_Driven</th>\n",
       "      <th>Owner</th>\n",
       "      <th>no_year</th>\n",
       "      <th>Fuel_Type_Diesel</th>\n",
       "      <th>Fuel_Type_Petrol</th>\n",
       "      <th>Seller_Type_Individual</th>\n",
       "      <th>Transmission_Manual</th>\n",
       "    </tr>\n",
       "  </thead>\n",
       "  <tbody>\n",
       "    <tr>\n",
       "      <th>Selling_Price</th>\n",
       "      <td>1.000000</td>\n",
       "      <td>0.878983</td>\n",
       "      <td>0.029187</td>\n",
       "      <td>-0.088344</td>\n",
       "      <td>-0.236141</td>\n",
       "      <td>0.552339</td>\n",
       "      <td>-0.540571</td>\n",
       "      <td>-0.550724</td>\n",
       "      <td>-0.367128</td>\n",
       "    </tr>\n",
       "    <tr>\n",
       "      <th>Present_Price</th>\n",
       "      <td>0.878983</td>\n",
       "      <td>1.000000</td>\n",
       "      <td>0.203647</td>\n",
       "      <td>0.008057</td>\n",
       "      <td>0.047584</td>\n",
       "      <td>0.473306</td>\n",
       "      <td>-0.465244</td>\n",
       "      <td>-0.512030</td>\n",
       "      <td>-0.348715</td>\n",
       "    </tr>\n",
       "    <tr>\n",
       "      <th>Kms_Driven</th>\n",
       "      <td>0.029187</td>\n",
       "      <td>0.203647</td>\n",
       "      <td>1.000000</td>\n",
       "      <td>0.089216</td>\n",
       "      <td>0.524342</td>\n",
       "      <td>0.172515</td>\n",
       "      <td>-0.172874</td>\n",
       "      <td>-0.101419</td>\n",
       "      <td>-0.162510</td>\n",
       "    </tr>\n",
       "    <tr>\n",
       "      <th>Owner</th>\n",
       "      <td>-0.088344</td>\n",
       "      <td>0.008057</td>\n",
       "      <td>0.089216</td>\n",
       "      <td>1.000000</td>\n",
       "      <td>0.182104</td>\n",
       "      <td>-0.053469</td>\n",
       "      <td>0.055687</td>\n",
       "      <td>0.124269</td>\n",
       "      <td>-0.050316</td>\n",
       "    </tr>\n",
       "    <tr>\n",
       "      <th>no_year</th>\n",
       "      <td>-0.236141</td>\n",
       "      <td>0.047584</td>\n",
       "      <td>0.524342</td>\n",
       "      <td>0.182104</td>\n",
       "      <td>1.000000</td>\n",
       "      <td>-0.064315</td>\n",
       "      <td>0.059959</td>\n",
       "      <td>0.039896</td>\n",
       "      <td>-0.000394</td>\n",
       "    </tr>\n",
       "    <tr>\n",
       "      <th>Fuel_Type_Diesel</th>\n",
       "      <td>0.552339</td>\n",
       "      <td>0.473306</td>\n",
       "      <td>0.172515</td>\n",
       "      <td>-0.053469</td>\n",
       "      <td>-0.064315</td>\n",
       "      <td>1.000000</td>\n",
       "      <td>-0.979648</td>\n",
       "      <td>-0.350467</td>\n",
       "      <td>-0.098643</td>\n",
       "    </tr>\n",
       "    <tr>\n",
       "      <th>Fuel_Type_Petrol</th>\n",
       "      <td>-0.540571</td>\n",
       "      <td>-0.465244</td>\n",
       "      <td>-0.172874</td>\n",
       "      <td>0.055687</td>\n",
       "      <td>0.059959</td>\n",
       "      <td>-0.979648</td>\n",
       "      <td>1.000000</td>\n",
       "      <td>0.358321</td>\n",
       "      <td>0.091013</td>\n",
       "    </tr>\n",
       "    <tr>\n",
       "      <th>Seller_Type_Individual</th>\n",
       "      <td>-0.550724</td>\n",
       "      <td>-0.512030</td>\n",
       "      <td>-0.101419</td>\n",
       "      <td>0.124269</td>\n",
       "      <td>0.039896</td>\n",
       "      <td>-0.350467</td>\n",
       "      <td>0.358321</td>\n",
       "      <td>1.000000</td>\n",
       "      <td>0.063240</td>\n",
       "    </tr>\n",
       "    <tr>\n",
       "      <th>Transmission_Manual</th>\n",
       "      <td>-0.367128</td>\n",
       "      <td>-0.348715</td>\n",
       "      <td>-0.162510</td>\n",
       "      <td>-0.050316</td>\n",
       "      <td>-0.000394</td>\n",
       "      <td>-0.098643</td>\n",
       "      <td>0.091013</td>\n",
       "      <td>0.063240</td>\n",
       "      <td>1.000000</td>\n",
       "    </tr>\n",
       "  </tbody>\n",
       "</table>\n",
       "</div>"
      ],
      "text/plain": [
       "                        Selling_Price  Present_Price  Kms_Driven     Owner  \\\n",
       "Selling_Price                1.000000       0.878983    0.029187 -0.088344   \n",
       "Present_Price                0.878983       1.000000    0.203647  0.008057   \n",
       "Kms_Driven                   0.029187       0.203647    1.000000  0.089216   \n",
       "Owner                       -0.088344       0.008057    0.089216  1.000000   \n",
       "no_year                     -0.236141       0.047584    0.524342  0.182104   \n",
       "Fuel_Type_Diesel             0.552339       0.473306    0.172515 -0.053469   \n",
       "Fuel_Type_Petrol            -0.540571      -0.465244   -0.172874  0.055687   \n",
       "Seller_Type_Individual      -0.550724      -0.512030   -0.101419  0.124269   \n",
       "Transmission_Manual         -0.367128      -0.348715   -0.162510 -0.050316   \n",
       "\n",
       "                         no_year  Fuel_Type_Diesel  Fuel_Type_Petrol  \\\n",
       "Selling_Price          -0.236141          0.552339         -0.540571   \n",
       "Present_Price           0.047584          0.473306         -0.465244   \n",
       "Kms_Driven              0.524342          0.172515         -0.172874   \n",
       "Owner                   0.182104         -0.053469          0.055687   \n",
       "no_year                 1.000000         -0.064315          0.059959   \n",
       "Fuel_Type_Diesel       -0.064315          1.000000         -0.979648   \n",
       "Fuel_Type_Petrol        0.059959         -0.979648          1.000000   \n",
       "Seller_Type_Individual  0.039896         -0.350467          0.358321   \n",
       "Transmission_Manual    -0.000394         -0.098643          0.091013   \n",
       "\n",
       "                        Seller_Type_Individual  Transmission_Manual  \n",
       "Selling_Price                        -0.550724            -0.367128  \n",
       "Present_Price                        -0.512030            -0.348715  \n",
       "Kms_Driven                           -0.101419            -0.162510  \n",
       "Owner                                 0.124269            -0.050316  \n",
       "no_year                               0.039896            -0.000394  \n",
       "Fuel_Type_Diesel                     -0.350467            -0.098643  \n",
       "Fuel_Type_Petrol                      0.358321             0.091013  \n",
       "Seller_Type_Individual                1.000000             0.063240  \n",
       "Transmission_Manual                   0.063240             1.000000  "
      ]
     },
     "execution_count": 19,
     "metadata": {},
     "output_type": "execute_result"
    }
   ],
   "source": [
    "final_dataset.corr()"
   ]
  },
  {
   "cell_type": "code",
   "execution_count": 20,
   "id": "5577fdf1",
   "metadata": {},
   "outputs": [
    {
     "data": {
      "text/plain": [
       "<seaborn.axisgrid.PairGrid at 0x262ebf6fe80>"
      ]
     },
     "execution_count": 20,
     "metadata": {},
     "output_type": "execute_result"
    },
    {
     "data": {
      "image/png": "[encoded data removed]",
      "text/plain": [
       "<Figure size 1620x1620 with 90 Axes>"
      ]
     },
     "metadata": {
      "needs_background": "light"
     },
     "output_type": "display_data"
    }
   ],
   "source": [
    "sns.pairplot(final_dataset)"
   ]
  },
  {
   "cell_type": "code",
   "execution_count": 21,
   "id": "3a6c51ed",
   "metadata": {},
   "outputs": [
    {
     "data": {
      "text/plain": [
       "<AxesSubplot:>"
      ]
     },
     "execution_count": 21,
     "metadata": {},
     "output_type": "execute_result"
    },
    {
     "data": {
      "image/png": "[encoded data removed]",
      "text/plain": [
       "<Figure size 1440x1440 with 2 Axes>"
      ]
     },
     "metadata": {
      "needs_background": "light"
     },
     "output_type": "display_data"
    }
   ],
   "source": [
    "corrmat = final_dataset.corr()\n",
    "top_corr_features = corrmat.index\n",
    "plt.figure(figsize = (20,20))\n",
    "sns.heatmap(final_dataset[top_corr_features].corr(),annot = True, cmap = 'YlGn')"
   ]
  },
  {
   "cell_type": "code",
   "execution_count": 22,
   "id": "703bde88",
   "metadata": {},
   "outputs": [],
   "source": [
    "X = final_dataset.drop('Selling_Price', axis = 1)"
   ]
  },
  {
   "cell_type": "code",
   "execution_count": 23,
   "id": "59f4a0f4",
   "metadata": {},
   "outputs": [
    {
     "data": {
      "text/plain": [
       "0    3.35\n",
       "1    4.75\n",
       "2    7.25\n",
       "3    2.85\n",
       "4    4.60\n",
       "Name: Selling_Price, dtype: float64"
      ]
     },
     "execution_count": 23,
     "metadata": {},
     "output_type": "execute_result"
    }
   ],
   "source": [
    "Y = final_dataset['Selling_Price']\n",
    "Y.head()"
   ]
  },
  {
   "cell_type": "code",
   "execution_count": 24,
   "id": "74c934e5",
   "metadata": {},
   "outputs": [
    {
     "name": "stdout",
     "output_type": "stream",
     "text": [
      "(270, 8) (31, 8) (270,) (31,)\n"
     ]
    }
   ],
   "source": [
    "X_train, X_test, Y_train, Y_test = train_test_split(X,Y,test_size = 0.1, random_state=1)\n",
    "print(X_train.shape, X_test.shape ,Y_train.shape ,Y_test.shape)"
   ]
  },
  {
   "cell_type": "code",
   "execution_count": 25,
   "id": "14873c2e",
   "metadata": {},
   "outputs": [
    {
     "data": {
      "text/html": [
       "<table class=\"simpletable\">\n",
       "<caption>OLS Regression Results</caption>\n",
       "<tr>\n",
       "  <th>Dep. Variable:</th>      <td>Selling_Price</td>  <th>  R-squared:         </th> <td>   0.883</td> \n",
       "</tr>\n",
       "<tr>\n",
       "  <th>Model:</th>                   <td>OLS</td>       <th>  Adj. R-squared:    </th> <td>   0.879</td> \n",
       "</tr>\n",
       "<tr>\n",
       "  <th>Method:</th>             <td>Least Squares</td>  <th>  F-statistic:       </th> <td>   274.3</td> \n",
       "</tr>\n",
       "<tr>\n",
       "  <th>Date:</th>             <td>Fri, 19 Nov 2021</td> <th>  Prob (F-statistic):</th> <td>5.71e-131</td>\n",
       "</tr>\n",
       "<tr>\n",
       "  <th>Time:</th>                 <td>16:07:49</td>     <th>  Log-Likelihood:    </th> <td> -593.62</td> \n",
       "</tr>\n",
       "<tr>\n",
       "  <th>No. Observations:</th>      <td>   301</td>      <th>  AIC:               </th> <td>   1205.</td> \n",
       "</tr>\n",
       "<tr>\n",
       "  <th>Df Residuals:</th>          <td>   292</td>      <th>  BIC:               </th> <td>   1239.</td> \n",
       "</tr>\n",
       "<tr>\n",
       "  <th>Df Model:</th>              <td>     8</td>      <th>                     </th>     <td> </td>    \n",
       "</tr>\n",
       "<tr>\n",
       "  <th>Covariance Type:</th>      <td>nonrobust</td>    <th>                     </th>     <td> </td>    \n",
       "</tr>\n",
       "</table>\n",
       "<table class=\"simpletable\">\n",
       "<tr>\n",
       "             <td></td>               <th>coef</th>     <th>std err</th>      <th>t</th>      <th>P>|t|</th>  <th>[0.025</th>    <th>0.975]</th>  \n",
       "</tr>\n",
       "<tr>\n",
       "  <th>const</th>                  <td>    5.1882</td> <td>    1.330</td> <td>    3.901</td> <td> 0.000</td> <td>    2.571</td> <td>    7.805</td>\n",
       "</tr>\n",
       "<tr>\n",
       "  <th>Present_Price</th>          <td>    0.4372</td> <td>    0.016</td> <td>   27.355</td> <td> 0.000</td> <td>    0.406</td> <td>    0.469</td>\n",
       "</tr>\n",
       "<tr>\n",
       "  <th>Kms_Driven</th>             <td>-7.013e-06</td> <td> 3.23e-06</td> <td>   -2.172</td> <td> 0.031</td> <td>-1.34e-05</td> <td>-6.57e-07</td>\n",
       "</tr>\n",
       "<tr>\n",
       "  <th>Owner</th>                  <td>   -0.6742</td> <td>    0.423</td> <td>   -1.595</td> <td> 0.112</td> <td>   -1.506</td> <td>    0.158</td>\n",
       "</tr>\n",
       "<tr>\n",
       "  <th>no_year</th>                <td>   -0.3931</td> <td>    0.043</td> <td>   -9.159</td> <td> 0.000</td> <td>   -0.478</td> <td>   -0.309</td>\n",
       "</tr>\n",
       "<tr>\n",
       "  <th>Fuel_Type_Diesel</th>       <td>    2.4699</td> <td>    1.278</td> <td>    1.932</td> <td> 0.054</td> <td>   -0.046</td> <td>    4.986</td>\n",
       "</tr>\n",
       "<tr>\n",
       "  <th>Fuel_Type_Petrol</th>       <td>    0.6077</td> <td>    1.259</td> <td>    0.483</td> <td> 0.630</td> <td>   -1.870</td> <td>    3.085</td>\n",
       "</tr>\n",
       "<tr>\n",
       "  <th>Seller_Type_Individual</th> <td>   -1.1213</td> <td>    0.257</td> <td>   -4.371</td> <td> 0.000</td> <td>   -1.626</td> <td>   -0.616</td>\n",
       "</tr>\n",
       "<tr>\n",
       "  <th>Transmission_Manual</th>    <td>   -1.4482</td> <td>    0.328</td> <td>   -4.417</td> <td> 0.000</td> <td>   -2.093</td> <td>   -0.803</td>\n",
       "</tr>\n",
       "</table>\n",
       "<table class=\"simpletable\">\n",
       "<tr>\n",
       "  <th>Omnibus:</th>       <td>95.107</td> <th>  Durbin-Watson:     </th> <td>   1.795</td> \n",
       "</tr>\n",
       "<tr>\n",
       "  <th>Prob(Omnibus):</th> <td> 0.000</td> <th>  Jarque-Bera (JB):  </th> <td> 696.392</td> \n",
       "</tr>\n",
       "<tr>\n",
       "  <th>Skew:</th>          <td> 1.075</td> <th>  Prob(JB):          </th> <td>6.03e-152</td>\n",
       "</tr>\n",
       "<tr>\n",
       "  <th>Kurtosis:</th>      <td>10.135</td> <th>  Cond. No.          </th> <td>1.15e+06</td> \n",
       "</tr>\n",
       "</table><br/><br/>Notes:<br/>[1] Standard Errors assume that the covariance matrix of the errors is correctly specified.<br/>[2] The condition number is large, 1.15e+06. This might indicate that there are<br/>strong multicollinearity or other numerical problems."
      ],
      "text/plain": [
       "<class 'statsmodels.iolib.summary.Summary'>\n",
       "\"\"\"\n",
       "                            OLS Regression Results                            \n",
       "==============================================================================\n",
       "Dep. Variable:          Selling_Price   R-squared:                       0.883\n",
       "Model:                            OLS   Adj. R-squared:                  0.879\n",
       "Method:                 Least Squares   F-statistic:                     274.3\n",
       "Date:                Fri, 19 Nov 2021   Prob (F-statistic):          5.71e-131\n",
       "Time:                        16:07:49   Log-Likelihood:                -593.62\n",
       "No. Observations:                 301   AIC:                             1205.\n",
       "Df Residuals:                     292   BIC:                             1239.\n",
       "Df Model:                           8                                         \n",
       "Covariance Type:            nonrobust                                         \n",
       "==========================================================================================\n",
       "                             coef    std err          t      P>|t|      [0.025      0.975]\n",
       "------------------------------------------------------------------------------------------\n",
       "const                      5.1882      1.330      3.901      0.000       2.571       7.805\n",
       "Present_Price              0.4372      0.016     27.355      0.000       0.406       0.469\n",
       "Kms_Driven             -7.013e-06   3.23e-06     -2.172      0.031   -1.34e-05   -6.57e-07\n",
       "Owner                     -0.6742      0.423     -1.595      0.112      -1.506       0.158\n",
       "no_year                   -0.3931      0.043     -9.159      0.000      -0.478      -0.309\n",
       "Fuel_Type_Diesel           2.4699      1.278      1.932      0.054      -0.046       4.986\n",
       "Fuel_Type_Petrol           0.6077      1.259      0.483      0.630      -1.870       3.085\n",
       "Seller_Type_Individual    -1.1213      0.257     -4.371      0.000      -1.626      -0.616\n",
       "Transmission_Manual       -1.4482      0.328     -4.417      0.000      -2.093      -0.803\n",
       "==============================================================================\n",
       "Omnibus:                       95.107   Durbin-Watson:                   1.795\n",
       "Prob(Omnibus):                  0.000   Jarque-Bera (JB):              696.392\n",
       "Skew:                           1.075   Prob(JB):                    6.03e-152\n",
       "Kurtosis:                      10.135   Cond. No.                     1.15e+06\n",
       "==============================================================================\n",
       "\n",
       "Notes:\n",
       "[1] Standard Errors assume that the covariance matrix of the errors is correctly specified.\n",
       "[2] The condition number is large, 1.15e+06. This might indicate that there are\n",
       "strong multicollinearity or other numerical problems.\n",
       "\"\"\""
      ]
     },
     "execution_count": 25,
     "metadata": {},
     "output_type": "execute_result"
    }
   ],
   "source": [
    "Xc = sm.add_constant(X)\n",
    "model_v1 = sm.OLS(Y,Xc).fit()\n",
    "model_v1.summary()"
   ]
  },
  {
   "cell_type": "code",
   "execution_count": 26,
   "id": "a487c227",
   "metadata": {},
   "outputs": [
    {
     "name": "stdout",
     "output_type": "stream",
     "text": [
      "r2 : 0.8825741581640658\n",
      "r2_adj 0.8793570118123963\n"
     ]
    }
   ],
   "source": [
    "r_sq = model_v1.rsquared\n",
    "r_sq_adj = model_v1.rsquared_adj\n",
    "print('r2 :', r_sq)\n",
    "print('r2_adj', r_sq_adj)"
   ]
  },
  {
   "cell_type": "code",
   "execution_count": 27,
   "id": "713f6a07",
   "metadata": {},
   "outputs": [],
   "source": [
    "#linear regression"
   ]
  },
  {
   "cell_type": "code",
   "execution_count": 28,
   "id": "dfbebfe0",
   "metadata": {},
   "outputs": [
    {
     "name": "stdout",
     "output_type": "stream",
     "text": [
      "1.9542918336044588\n"
     ]
    }
   ],
   "source": [
    "linear_regression = LinearRegression()\n",
    "linear_regression.fit(X_train.values,Y_train.values)\n",
    "rmse = (mean_squared_error(Y_test,linear_regression.predict(X_test))**0.5)\n",
    "print(rmse)"
   ]
  },
  {
   "cell_type": "code",
   "execution_count": 29,
   "id": "14d4a936",
   "metadata": {
    "scrolled": true
   },
   "outputs": [
    {
     "data": {
      "text/plain": [
       "array([ 7.81571082,  2.97397349, -0.51868592,  4.1824677 ,  0.52531398,\n",
       "        5.78936015,  1.94468562,  2.59149653,  7.7266758 ,  0.98549534,\n",
       "        8.10049466,  3.51673114,  4.88719327,  4.60739441, -2.0797094 ,\n",
       "        3.09417821,  7.95244807,  6.7558933 ,  6.89442966,  7.98707163,\n",
       "        4.31991767,  4.07318399, 11.38026446,  8.05346588,  9.60944582,\n",
       "        3.45853307,  3.87217962,  1.07104394, -0.57093739, -0.55817872,\n",
       "        0.03214186])"
      ]
     },
     "execution_count": 29,
     "metadata": {},
     "output_type": "execute_result"
    }
   ],
   "source": [
    "predict = linear_regression.predict(X_test)\n",
    "predict"
   ]
  },
  {
   "cell_type": "code",
   "execution_count": 30,
   "id": "67536eea",
   "metadata": {},
   "outputs": [
    {
     "data": {
      "text/plain": [
       "0.6630942305946796"
      ]
     },
     "execution_count": 30,
     "metadata": {},
     "output_type": "execute_result"
    }
   ],
   "source": [
    "r2_score(predict, Y_test)"
   ]
  },
  {
   "cell_type": "code",
   "execution_count": 31,
   "id": "7f743d44",
   "metadata": {
    "scrolled": true
   },
   "outputs": [
    {
     "data": {
      "text/plain": [
       "<AxesSubplot:xlabel='Selling_Price', ylabel='Density'>"
      ]
     },
     "execution_count": 31,
     "metadata": {},
     "output_type": "execute_result"
    },
    {
     "data": {
      "image/png": "[encoded data removed]",
      "text/plain": [
       "<Figure size 432x288 with 1 Axes>"
      ]
     },
     "metadata": {
      "needs_background": "light"
     },
     "output_type": "display_data"
    }
   ],
   "source": [
    "sns.distplot(Y_test-predict)"
   ]
  },
  {
   "cell_type": "code",
   "execution_count": 32,
   "id": "76b605ec",
   "metadata": {
    "scrolled": true
   },
   "outputs": [
    {
     "data": {
      "text/plain": [
       "<AxesSubplot:xlabel='Selling_Price'>"
      ]
     },
     "execution_count": 32,
     "metadata": {},
     "output_type": "execute_result"
    },
    {
     "data": {
      "image/png": "[encoded data removed]",
      "text/plain": [
       "<Figure size 432x288 with 1 Axes>"
      ]
     },
     "metadata": {
      "needs_background": "light"
     },
     "output_type": "display_data"
    }
   ],
   "source": [
    "sns.scatterplot(Y_test,predict)"
   ]
  },
  {
   "cell_type": "code",
   "execution_count": null,
   "id": "a9d70d97",
   "metadata": {},
   "outputs": [],
   "source": []
  },
  {
   "cell_type": "code",
   "execution_count": 33,
   "id": "3db49275",
   "metadata": {},
   "outputs": [],
   "source": [
    "#lasso regression"
   ]
  },
  {
   "cell_type": "code",
   "execution_count": 34,
   "id": "5db5472e",
   "metadata": {},
   "outputs": [
    {
     "name": "stdout",
     "output_type": "stream",
     "text": [
      "1.9542918336044588\n"
     ]
    }
   ],
   "source": [
    "lasso_regression = Lasso()\n",
    "lasso_regression.fit(X_train.values,Y_train.values)\n",
    "rmse_lasso = (mean_squared_error(Y_test,linear_regression.predict(X_test))**0.5)\n",
    "print(rmse_lasso)"
   ]
  },
  {
   "cell_type": "code",
   "execution_count": 35,
   "id": "f35f8093",
   "metadata": {
    "scrolled": true
   },
   "outputs": [
    {
     "data": {
      "text/plain": [
       "array([ 6.01973477,  2.9723604 ,  0.50789049,  3.89350057,  1.4323646 ,\n",
       "        5.62770993,  2.44642968,  2.86307194,  8.27369172,  1.66514818,\n",
       "        6.46672315,  3.6396111 ,  4.71225499,  4.38150442, -1.00069572,\n",
       "        1.82883627,  6.50089861,  5.40059485,  5.44738246,  6.53279201,\n",
       "        5.27353498,  4.76881992, 11.30140479,  6.46236191, 10.2017763 ,\n",
       "        3.81930022,  4.76805827,  1.75664207,  0.36581891,  0.49735542,\n",
       "        0.87193726])"
      ]
     },
     "execution_count": 35,
     "metadata": {},
     "output_type": "execute_result"
    }
   ],
   "source": [
    "predict_lasso = lasso_regression.predict(X_test)\n",
    "predict_lasso"
   ]
  },
  {
   "cell_type": "code",
   "execution_count": 36,
   "id": "da3ed2e7",
   "metadata": {},
   "outputs": [
    {
     "data": {
      "text/plain": [
       "0.5103703083094902"
      ]
     },
     "execution_count": 36,
     "metadata": {},
     "output_type": "execute_result"
    }
   ],
   "source": [
    "r2_score(predict_lasso, Y_test)"
   ]
  },
  {
   "cell_type": "code",
   "execution_count": 37,
   "id": "33985fac",
   "metadata": {
    "scrolled": true
   },
   "outputs": [
    {
     "data": {
      "text/plain": [
       "<AxesSubplot:xlabel='Selling_Price', ylabel='Density'>"
      ]
     },
     "execution_count": 37,
     "metadata": {},
     "output_type": "execute_result"
    },
    {
     "data": {
      "image/png": "[encoded data removed]",
      "text/plain": [
       "<Figure size 432x288 with 1 Axes>"
      ]
     },
     "metadata": {
      "needs_background": "light"
     },
     "output_type": "display_data"
    }
   ],
   "source": [
    "sns.distplot(Y_test-predict_lasso)"
   ]
  },
  {
   "cell_type": "code",
   "execution_count": 38,
   "id": "ae3866c1",
   "metadata": {
    "scrolled": true
   },
   "outputs": [
    {
     "data": {
      "text/plain": [
       "<AxesSubplot:xlabel='Selling_Price'>"
      ]
     },
     "execution_count": 38,
     "metadata": {},
     "output_type": "execute_result"
    },
    {
     "data": {
      "image/png": "[encoded data removed]",
      "text/plain": [
       "<Figure size 432x288 with 1 Axes>"
      ]
     },
     "metadata": {
      "needs_background": "light"
     },
     "output_type": "display_data"
    }
   ],
   "source": [
    "sns.scatterplot(Y_test,predict_lasso)"
   ]
  },
  {
   "cell_type": "code",
   "execution_count": null,
   "id": "94b4d5b1",
   "metadata": {},
   "outputs": [],
   "source": []
  },
  {
   "cell_type": "code",
   "execution_count": 39,
   "id": "9edc519d",
   "metadata": {},
   "outputs": [],
   "source": [
    "#ridge regression"
   ]
  },
  {
   "cell_type": "code",
   "execution_count": 40,
   "id": "cfad8697",
   "metadata": {},
   "outputs": [
    {
     "name": "stdout",
     "output_type": "stream",
     "text": [
      "1.9406337807898826\n"
     ]
    }
   ],
   "source": [
    "ridge_regression = Ridge()\n",
    "ridge_regression.fit(X_train.values,Y_train.values)\n",
    "rmse = (mean_squared_error(Y_test,ridge_regression.predict(X_test))**0.5)\n",
    "print(rmse)"
   ]
  },
  {
   "cell_type": "code",
   "execution_count": 41,
   "id": "16509aa8",
   "metadata": {
    "scrolled": true
   },
   "outputs": [
    {
     "data": {
      "text/plain": [
       "array([ 7.74625776,  2.96380358, -0.50974066,  4.177353  ,  0.54282755,\n",
       "        5.79340896,  1.96953397,  2.58101248,  7.74557092,  1.00799169,\n",
       "        8.07583766,  3.51312253,  4.88424874,  4.56840621, -2.11314008,\n",
       "        3.04404065,  7.93291927,  6.72751435,  6.82281961,  7.96653838,\n",
       "        4.3610873 ,  4.06993164, 11.34239713,  7.98502536,  9.49560077,\n",
       "        4.36078737,  3.87743792,  1.09275073, -0.55109439, -0.54464167,\n",
       "        0.04980925])"
      ]
     },
     "execution_count": 41,
     "metadata": {},
     "output_type": "execute_result"
    }
   ],
   "source": [
    "predict_ridge = ridge_regression.predict(X_test)\n",
    "predict_ridge"
   ]
  },
  {
   "cell_type": "code",
   "execution_count": 42,
   "id": "88415465",
   "metadata": {},
   "outputs": [
    {
     "data": {
      "text/plain": [
       "0.6632942183973527"
      ]
     },
     "execution_count": 42,
     "metadata": {},
     "output_type": "execute_result"
    }
   ],
   "source": [
    "r2_score(predict_ridge, Y_test)"
   ]
  },
  {
   "cell_type": "code",
   "execution_count": 43,
   "id": "49e27bc8",
   "metadata": {
    "scrolled": true
   },
   "outputs": [
    {
     "data": {
      "text/plain": [
       "<AxesSubplot:xlabel='Selling_Price', ylabel='Density'>"
      ]
     },
     "execution_count": 43,
     "metadata": {},
     "output_type": "execute_result"
    },
    {
     "data": {
      "image/png": "[encoded data removed]",
      "text/plain": [
       "<Figure size 432x288 with 1 Axes>"
      ]
     },
     "metadata": {
      "needs_background": "light"
     },
     "output_type": "display_data"
    }
   ],
   "source": [
    "sns.distplot(Y_test-predict_ridge)"
   ]
  },
  {
   "cell_type": "code",
   "execution_count": 44,
   "id": "16226624",
   "metadata": {
    "scrolled": true
   },
   "outputs": [
    {
     "data": {
      "text/plain": [
       "<AxesSubplot:xlabel='Selling_Price'>"
      ]
     },
     "execution_count": 44,
     "metadata": {},
     "output_type": "execute_result"
    },
    {
     "data": {
      "image/png": "[encoded data removed]",
      "text/plain": [
       "<Figure size 432x288 with 1 Axes>"
      ]
     },
     "metadata": {
      "needs_background": "light"
     },
     "output_type": "display_data"
    }
   ],
   "source": [
    "sns.scatterplot(Y_test,predict_ridge)"
   ]
  },
  {
   "cell_type": "code",
   "execution_count": null,
   "id": "cf7c9e09",
   "metadata": {},
   "outputs": [],
   "source": []
  },
  {
   "cell_type": "code",
   "execution_count": 45,
   "id": "f4130864",
   "metadata": {},
   "outputs": [],
   "source": [
    "#elastic regression"
   ]
  },
  {
   "cell_type": "code",
   "execution_count": 46,
   "id": "345049f8",
   "metadata": {},
   "outputs": [
    {
     "name": "stdout",
     "output_type": "stream",
     "text": [
      "1.9542918336044588\n"
     ]
    }
   ],
   "source": [
    "ElasticNet = ElasticNet()\n",
    "ElasticNet.fit(X_train.values,Y_train.values)\n",
    "rmse = (mean_squared_error(Y_test,linear_regression.predict(X_test))**0.5)\n",
    "print(rmse)"
   ]
  },
  {
   "cell_type": "code",
   "execution_count": 47,
   "id": "cb933e80",
   "metadata": {
    "scrolled": true
   },
   "outputs": [
    {
     "data": {
      "text/plain": [
       "array([ 6.10136306,  2.91958823,  0.30158806,  3.96668673,  1.34606861,\n",
       "        5.75301891,  2.54281518,  2.7338037 ,  8.34891904,  1.69431498,\n",
       "        6.55812069,  3.62060692,  4.77117555,  4.40158202, -1.33389398,\n",
       "        1.91042231,  6.6003299 ,  5.38482804,  5.4156693 ,  6.62135326,\n",
       "        5.4042745 ,  4.58791379, 11.2230692 ,  6.49567187, 10.03296551,\n",
       "        3.87981681,  4.62870846,  1.77443943,  0.30786019,  0.33499188,\n",
       "        0.81093223])"
      ]
     },
     "execution_count": 47,
     "metadata": {},
     "output_type": "execute_result"
    }
   ],
   "source": [
    "predict_ElasticNet = ElasticNet.predict(X_test)\n",
    "predict_ElasticNet"
   ]
  },
  {
   "cell_type": "code",
   "execution_count": 48,
   "id": "a696e1e2",
   "metadata": {},
   "outputs": [
    {
     "data": {
      "text/plain": [
       "0.5380398088054645"
      ]
     },
     "execution_count": 48,
     "metadata": {},
     "output_type": "execute_result"
    }
   ],
   "source": [
    "r2_score(predict_ElasticNet, Y_test)"
   ]
  },
  {
   "cell_type": "code",
   "execution_count": 49,
   "id": "4e8dd7ce",
   "metadata": {
    "scrolled": true
   },
   "outputs": [
    {
     "data": {
      "text/plain": [
       "<AxesSubplot:xlabel='Selling_Price', ylabel='Density'>"
      ]
     },
     "execution_count": 49,
     "metadata": {},
     "output_type": "execute_result"
    },
    {
     "data": {
      "image/png": "[encoded data removed]",
      "text/plain": [
       "<Figure size 432x288 with 1 Axes>"
      ]
     },
     "metadata": {
      "needs_background": "light"
     },
     "output_type": "display_data"
    }
   ],
   "source": [
    "sns.distplot(Y_test-predict_ElasticNet)"
   ]
  },
  {
   "cell_type": "code",
   "execution_count": 50,
   "id": "c56bcc3f",
   "metadata": {
    "scrolled": true
   },
   "outputs": [
    {
     "data": {
      "text/plain": [
       "<AxesSubplot:xlabel='Selling_Price'>"
      ]
     },
     "execution_count": 50,
     "metadata": {},
     "output_type": "execute_result"
    },
    {
     "data": {
      "image/png": "[encoded data removed]",
      "text/plain": [
       "<Figure size 432x288 with 1 Axes>"
      ]
     },
     "metadata": {
      "needs_background": "light"
     },
     "output_type": "display_data"
    }
   ],
   "source": [
    "sns.scatterplot(Y_test,predict_ElasticNet)"
   ]
  },
  {
   "cell_type": "code",
   "execution_count": null,
   "id": "aab47ee2",
   "metadata": {},
   "outputs": [],
   "source": []
  },
  {
   "cell_type": "code",
   "execution_count": 51,
   "id": "a58ea21e",
   "metadata": {},
   "outputs": [],
   "source": [
    "#random forest regression"
   ]
  },
  {
   "cell_type": "code",
   "execution_count": 52,
   "id": "aea2f4c7",
   "metadata": {},
   "outputs": [
    {
     "name": "stdout",
     "output_type": "stream",
     "text": [
      "1.70055371646433\n"
     ]
    }
   ],
   "source": [
    "rfreg = RandomForestRegressor()\n",
    "rfreg.fit(X_train.values,Y_train.values)\n",
    "rmse = (mean_squared_error(Y_test,rfreg.predict(X_test))**0.5)\n",
    "print(rmse)"
   ]
  },
  {
   "cell_type": "code",
   "execution_count": 53,
   "id": "dffb7068",
   "metadata": {
    "scrolled": true
   },
   "outputs": [
    {
     "data": {
      "text/plain": [
       "array([ 6.6774,  2.912 ,  0.4667,  2.934 ,  1.0688,  5.296 ,  0.8191,\n",
       "        3.1955,  8.873 ,  0.5858,  8.4191,  4.008 ,  5.3335,  4.241 ,\n",
       "        0.1671,  0.4333,  7.2515,  5.4005,  5.011 ,  7.116 ,  5.088 ,\n",
       "        3.7395,  8.5967,  7.0875, 11.0686,  3.1445,  3.1735,  0.6376,\n",
       "        0.2154,  0.4598,  0.2426])"
      ]
     },
     "execution_count": 53,
     "metadata": {},
     "output_type": "execute_result"
    }
   ],
   "source": [
    "predict_rfreg = rfreg.predict(X_test)\n",
    "predict_rfreg"
   ]
  },
  {
   "cell_type": "code",
   "execution_count": 54,
   "id": "8d5198f0",
   "metadata": {
    "scrolled": true
   },
   "outputs": [
    {
     "data": {
      "text/plain": [
       "array([ 0.1815,  4.6245, 20.7412, 22.7975,  4.4405,  3.5855,  1.0243,\n",
       "        0.2153,  4.3285, 10.1106, 12.2225,  0.2362,  4.544 ,  4.1735,\n",
       "        4.0365,  6.7465,  6.535 ,  7.3015,  1.279 ,  3.8635,  0.4702,\n",
       "        2.2955,  4.078 ,  1.1198,  0.1798, 19.0127,  0.5345,  6.3145,\n",
       "        5.6705,  0.242 ,  1.596 , 13.9215,  5.08  ,  0.4666,  0.6996,\n",
       "        2.3436,  0.4002,  4.2863,  0.2388,  9.0188,  7.742 ,  5.9045,\n",
       "        0.41  ,  1.1925,  2.1605,  1.6741, 10.2051,  8.6685,  4.693 ,\n",
       "        2.9565,  1.1635,  9.619 , 11.4367,  1.1792,  5.593 ,  2.669 ,\n",
       "        0.6253,  0.7219,  7.3405,  5.186 ,  6.171 ,  2.915 ,  2.3805,\n",
       "        9.9668, 11.7355,  0.4695,  1.501 ,  0.463 ,  0.5525,  0.9562,\n",
       "        9.7298,  2.69  , 15.0004,  3.9125,  0.2955,  1.0181,  1.1576,\n",
       "        1.0605,  9.793 ,  4.116 ,  8.0995,  5.2315,  0.2559,  4.318 ,\n",
       "        2.5335,  0.417 ,  3.8672,  2.2   ,  5.1845,  0.4129,  5.809 ,\n",
       "        6.105 ,  0.488 ,  5.168 ,  6.2055, 22.7975,  0.3914,  3.336 ,\n",
       "        4.802 , 23.0262,  3.2635,  3.2615, 19.052 ,  8.767 ,  0.5605,\n",
       "       10.4413,  4.02  ,  1.418 ,  7.697 , 10.5228,  5.766 ,  5.203 ,\n",
       "        1.6545, 15.3841, 16.3127,  0.5647,  2.776 ,  3.0245,  0.6798,\n",
       "        4.624 ,  1.0666,  0.4564,  0.5887,  5.3695,  0.4477, 10.7401,\n",
       "        4.5235,  4.9325,  0.3707,  0.367 ,  3.6854,  0.3629,  1.1408,\n",
       "        7.22  ,  5.4665,  1.1145,  2.8115,  0.5318,  9.115 ,  5.398 ,\n",
       "        2.7514,  4.928 ,  0.3403,  8.5916,  0.2962,  6.9155,  2.937 ,\n",
       "        0.7238, 16.1939,  3.0975, 21.93  ,  0.2841,  6.9125,  6.976 ,\n",
       "        0.6606,  5.004 ,  0.4904,  0.4945,  4.249 ,  0.5644,  5.03  ,\n",
       "        0.987 ,  5.1355,  4.9435,  5.944 , 21.0588,  5.699 ,  3.9065,\n",
       "        7.4398,  2.9475,  1.5185,  4.545 ,  6.9713,  2.828 ,  6.8745,\n",
       "        2.5695,  4.0585,  0.1416,  5.6905,  6.4235,  8.9576,  0.5603,\n",
       "        5.011 ,  7.8342,  0.1641,  3.0535, 17.4982,  6.547 ,  5.291 ,\n",
       "        0.804 ,  3.7995,  2.353 ,  1.1505,  4.57  ,  0.2646,  0.4371,\n",
       "        2.481 ,  0.4656,  2.695 ,  0.1962,  5.668 ,  3.5263,  0.1474,\n",
       "        8.757 ,  5.9765,  0.595 ,  5.4685,  2.851 ,  0.474 ,  5.017 ,\n",
       "        0.7351,  0.4408, 11.6335,  5.1606,  0.44  ,  0.4594,  1.6655,\n",
       "        0.9285,  2.345 ,  0.8503,  8.963 ,  0.2489,  7.07  ,  9.665 ,\n",
       "        1.423 ,  0.5073,  5.0075,  2.8525,  0.1724, 28.5496,  7.742 ,\n",
       "        1.2041,  4.007 ,  6.0846,  5.5885,  2.6945,  7.715 ,  6.6483,\n",
       "        3.224 ,  1.0267,  1.1212,  6.876 ,  2.9325,  4.0955,  4.9575,\n",
       "        5.1385,  4.02  ,  6.534 ,  0.6233, 27.119 ,  4.5355,  4.624 ,\n",
       "        4.6728, 15.0549,  0.4711,  5.2635,  5.349 ,  8.857 ,  0.3457,\n",
       "        2.1946, 10.7575,  5.0276,  0.7818,  0.5622,  0.7462,  2.7865,\n",
       "        3.099 ,  7.179 ,  8.8955,  0.5855])"
      ]
     },
     "execution_count": 54,
     "metadata": {},
     "output_type": "execute_result"
    }
   ],
   "source": [
    "predict_rfreg_train = rfreg.predict(X_train)\n",
    "predict_rfreg_train"
   ]
  },
  {
   "cell_type": "code",
   "execution_count": 55,
   "id": "d89c9598",
   "metadata": {},
   "outputs": [
    {
     "data": {
      "text/plain": [
       "0.6865720096957568"
      ]
     },
     "execution_count": 55,
     "metadata": {},
     "output_type": "execute_result"
    }
   ],
   "source": [
    "r2_score(predict_rfreg, Y_test)"
   ]
  },
  {
   "cell_type": "code",
   "execution_count": 56,
   "id": "3a8b538b",
   "metadata": {},
   "outputs": [
    {
     "data": {
      "text/plain": [
       "0.9830964518519938"
      ]
     },
     "execution_count": 56,
     "metadata": {},
     "output_type": "execute_result"
    }
   ],
   "source": [
    "r2_score(predict_rfreg_train, Y_train)"
   ]
  },
  {
   "cell_type": "code",
   "execution_count": 57,
   "id": "473a8fd8",
   "metadata": {},
   "outputs": [
    {
     "data": {
      "text/plain": [
       "GridSearchCV(cv=5, estimator=RandomForestRegressor(),\n",
       "             param_grid={'bootstrap': [True, False],\n",
       "                         'max_depth': [10, 20, 30, 40, 50, 60, 70, 80, 90, 100,\n",
       "                                       None],\n",
       "                         'max_features': ['auto', 'sqrt'],\n",
       "                         'min_samples_leaf': [1, 2, 4],\n",
       "                         'min_samples_split': [2, 5, 10],\n",
       "                         'n_estimators': [200, 400, 600, 800, 1000, 1200, 1400,\n",
       "                                          1600, 1800, 2000]},\n",
       "             scoring='recall')"
      ]
     },
     "execution_count": 57,
     "metadata": {},
     "output_type": "execute_result"
    }
   ],
   "source": [
    "from sklearn.model_selection import GridSearchCV\n",
    "rfreg = RandomForestRegressor()\n",
    "rfreg.fit(X_train.values,Y_train.values)\n",
    "params = {'bootstrap': [True, False],\n",
    " 'max_depth': [10, 20, 30, 40, 50, 60, 70, 80, 90, 100, None],\n",
    " 'max_features': ['auto', 'sqrt'],\n",
    " 'min_samples_leaf': [1, 2, 4],\n",
    " 'min_samples_split': [2, 5, 10],\n",
    " 'n_estimators': [200, 400, 600, 800, 1000, 1200, 1400, 1600, 1800, 2000]}\n",
    "rf = GridSearchCV(estimator=rfreg,param_grid=params,cv=5,scoring='recall')\n",
    "rf.fit(X_train,Y_train)"
   ]
  },
  {
   "cell_type": "code",
   "execution_count": 58,
   "id": "29a84be5",
   "metadata": {},
   "outputs": [
    {
     "data": {
      "text/plain": [
       "RandomForestRegressor(max_depth=10, n_estimators=200)"
      ]
     },
     "execution_count": 58,
     "metadata": {},
     "output_type": "execute_result"
    }
   ],
   "source": [
    "best = rf.best_estimator_\n",
    "best"
   ]
  },
  {
   "cell_type": "code",
   "execution_count": 59,
   "id": "4dbcea12",
   "metadata": {},
   "outputs": [],
   "source": [
    "def evaluate(model, test_features, test_labels):\n",
    "    predictions = model.predict(test_features)\n",
    "    errors = abs(predictions - test_labels)\n",
    "    mape = 100 * np.mean(errors / test_labels)\n",
    "    accuracy = 100 - mape\n",
    "    rmse = (mean_squared_error(test_labels,model.predict(test_features))**0.5)\n",
    "    print('Model Performance')\n",
    "    print('Average Error: {:0.4f} degrees.'.format(np.mean(errors)))\n",
    "    print('Accuracy = {:0.2f}%.'.format(accuracy))\n",
    "    print('rmse = {}'.format(rmse))\n",
    "    \n",
    "    return accuracy"
   ]
  },
  {
   "cell_type": "code",
   "execution_count": 60,
   "id": "4f667bfd",
   "metadata": {},
   "outputs": [
    {
     "name": "stdout",
     "output_type": "stream",
     "text": [
      "Model Performance\n",
      "Average Error: 0.7057 degrees.\n",
      "Accuracy = 74.33%.\n",
      "rmse = 1.8762617735366838\n"
     ]
    }
   ],
   "source": [
    "grid_accuracy = evaluate(best, X_test, Y_test)"
   ]
  },
  {
   "cell_type": "code",
   "execution_count": 61,
   "id": "8463139e",
   "metadata": {
    "scrolled": true
   },
   "outputs": [
    {
     "data": {
      "text/plain": [
       "array([ 6.62272252,  2.8832125 ,  0.48417207,  2.9334625 ,  1.07343817,\n",
       "        5.33340417,  0.80979187,  3.23117917,  8.73191093,  0.57983611,\n",
       "        8.32659089,  3.94471101,  5.38106747,  4.30300967,  0.16507158,\n",
       "        0.43741668,  7.30850766,  5.39896138,  5.0178188 ,  7.24043623,\n",
       "        5.05422202,  3.6806125 ,  8.959825  ,  7.10759079, 12.0045    ,\n",
       "        3.13124583,  3.093625  ,  0.62335316,  0.20017127,  0.45760288,\n",
       "        0.23997408])"
      ]
     },
     "execution_count": 61,
     "metadata": {},
     "output_type": "execute_result"
    }
   ],
   "source": [
    "predict_rfreg = best.predict(X_test)\n",
    "predict_rfreg"
   ]
  },
  {
   "cell_type": "code",
   "execution_count": 62,
   "id": "d86b41c7",
   "metadata": {
    "scrolled": true
   },
   "outputs": [
    {
     "data": {
      "text/plain": [
       "array([ 0.17981152,  4.73351857, 20.85265   , 22.7986    ,  4.32539062,\n",
       "        3.51745818,  1.00796268,  0.21190781,  4.30606443, 10.09213134,\n",
       "       12.12645461,  0.22827438,  4.47745135,  4.21511868,  4.13483533,\n",
       "        6.79013117,  6.52137333,  7.36517952,  1.26539109,  3.81705325,\n",
       "        0.46970914,  2.32077917,  4.11613929,  1.13342617,  0.16919335,\n",
       "       19.0278    ,  0.53624982,  6.24839221,  5.78546667,  0.24604444,\n",
       "        1.58891667, 13.87992917,  5.08490057,  0.46335345,  0.68139887,\n",
       "        2.2655    ,  0.39665532,  4.40605   ,  0.23542138,  9.05182609,\n",
       "        7.83882827,  6.1324875 ,  0.40770716,  1.18134462,  2.09267857,\n",
       "        1.70777083, 10.32087717,  8.67627738,  4.68363615,  2.96264583,\n",
       "        1.16181379,  9.8679    , 11.19042917,  1.1663957 ,  5.59383065,\n",
       "        2.69837917,  0.62349438,  0.71771145,  7.36739722,  5.24770822,\n",
       "        6.26369623,  2.76574231,  2.334625  , 10.08705   , 11.68400833,\n",
       "        0.49632207,  1.47909167,  0.48436362,  0.55612251,  0.93639439,\n",
       "        9.67113294,  2.6552625 , 15.1804    ,  3.95069809,  0.28788333,\n",
       "        1.02849266,  1.16281594,  1.06522283, 10.068275  ,  4.15685047,\n",
       "        8.07653851,  5.11399247,  0.24416843,  4.31473132,  2.576675  ,\n",
       "        0.4299763 ,  3.735025  ,  2.21041667,  5.21836607,  0.40729466,\n",
       "        5.81562936,  6.16597778,  0.49983228,  5.09881394,  6.35975379,\n",
       "       22.7986    ,  0.41103722,  3.26973695,  4.76145029, 22.9437    ,\n",
       "        3.25633333,  3.2771504 , 19.00425   ,  8.66095308,  0.56760879,\n",
       "       10.69332574,  3.9255273 ,  1.43025   ,  7.71438777, 10.38009687,\n",
       "        5.84411736,  5.1302996 ,  1.653     , 14.908425  , 16.477     ,\n",
       "        0.56283011,  2.79474167,  2.99348333,  0.68143969,  4.65338319,\n",
       "        1.06700456,  0.46244902,  0.58727692,  5.29300477,  0.4527098 ,\n",
       "       10.65475038,  4.52028848,  4.94915557,  0.35778485,  0.34587732,\n",
       "        3.788     ,  0.36877222,  1.13182242,  7.1496643 ,  5.45685869,\n",
       "        1.125936  ,  2.83360833,  0.53486292,  9.83933849,  5.41515676,\n",
       "        2.78925   ,  4.95920342,  0.3328631 ,  8.34359028,  0.27674676,\n",
       "        7.09094583,  2.89519405,  0.71361404, 16.08485   ,  3.057625  ,\n",
       "       22.1634    ,  0.27113251,  7.07109583,  7.621     ,  0.68417951,\n",
       "        5.04155473,  0.47620917,  0.49205159,  4.14355893,  0.56229518,\n",
       "        5.06571266,  1.0015585 ,  5.1131242 ,  5.02644617,  5.88696269,\n",
       "       21.23215   ,  5.66398549,  4.01956477,  7.3702711 ,  2.9103375 ,\n",
       "        1.5175    ,  4.58983379,  7.01421014,  2.79510833,  7.1107496 ,\n",
       "        2.58274167,  4.1159018 ,  0.14544488,  5.52789058,  6.45132014,\n",
       "        9.17866889,  0.55338786,  4.96209808,  7.75665655,  0.17595105,\n",
       "        3.17014407, 17.2925    ,  6.47870878,  5.3003631 ,  0.8044271 ,\n",
       "        3.9201801 ,  2.2682    ,  1.14602289,  4.51950951,  0.26247174,\n",
       "        0.43648168,  2.43869231,  0.46974357,  2.69066667,  0.19795801,\n",
       "        5.7533811 ,  3.543875  ,  0.14261202,  8.6843595 ,  5.96111944,\n",
       "        0.58838068,  5.69328111,  2.906875  ,  0.48201687,  4.99347594,\n",
       "        0.71658986,  0.44161392, 11.34443224,  5.10955   ,  0.44232392,\n",
       "        0.46340045,  1.667275  ,  0.94255442,  2.30964161,  0.84229306,\n",
       "        8.92573905,  0.23550805,  7.11914416,  9.59011515,  1.41366667,\n",
       "        0.51010846,  5.00673597,  2.88016667,  0.17388707, 28.4933    ,\n",
       "        7.83882827,  1.19680902,  4.00448314,  5.88680833,  5.59378898,\n",
       "        2.72061667,  7.88639544,  6.57277252,  3.24258968,  1.04082086,\n",
       "        1.12624965,  6.86892153,  2.9334625 ,  4.186726  ,  4.94384061,\n",
       "        5.13156055,  4.02641731,  6.56173487,  0.62439882, 28.169     ,\n",
       "        4.53372157,  4.65125819,  4.57745   , 15.1964    ,  0.47511678,\n",
       "        5.20855239,  5.28581866,  8.75735533,  0.35032561,  2.201375  ,\n",
       "       10.67289028,  4.92959444,  0.77652508,  0.55790499,  0.74075444,\n",
       "        2.7862375 ,  3.03893194,  7.28158333,  8.87998905,  0.5695    ])"
      ]
     },
     "execution_count": 62,
     "metadata": {},
     "output_type": "execute_result"
    }
   ],
   "source": [
    "predict_rfreg_train = best.predict(X_train)\n",
    "predict_rfreg_train"
   ]
  },
  {
   "cell_type": "code",
   "execution_count": 63,
   "id": "3d51d58d",
   "metadata": {},
   "outputs": [
    {
     "data": {
      "text/plain": [
       "0.6398444339469767"
      ]
     },
     "execution_count": 63,
     "metadata": {},
     "output_type": "execute_result"
    }
   ],
   "source": [
    "r2_score(predict_rfreg, Y_test)"
   ]
  },
  {
   "cell_type": "code",
   "execution_count": 64,
   "id": "b41e7fcb",
   "metadata": {},
   "outputs": [
    {
     "data": {
      "text/plain": [
       "0.9844543168452567"
      ]
     },
     "execution_count": 64,
     "metadata": {},
     "output_type": "execute_result"
    }
   ],
   "source": [
    "r2_score(predict_rfreg_train, Y_train)"
   ]
  },
  {
   "cell_type": "code",
   "execution_count": 65,
   "id": "e170a5d8",
   "metadata": {
    "scrolled": true
   },
   "outputs": [
    {
     "data": {
      "text/plain": [
       "<AxesSubplot:xlabel='Selling_Price', ylabel='Density'>"
      ]
     },
     "execution_count": 65,
     "metadata": {},
     "output_type": "execute_result"
    },
    {
     "data": {
      "image/png": "[encoded data removed]",
      "text/plain": [
       "<Figure size 432x288 with 1 Axes>"
      ]
     },
     "metadata": {
      "needs_background": "light"
     },
     "output_type": "display_data"
    }
   ],
   "source": [
    "sns.distplot(Y_test-predict_rfreg)"
   ]
  },
  {
   "cell_type": "code",
   "execution_count": 66,
   "id": "1811509b",
   "metadata": {
    "scrolled": false
   },
   "outputs": [
    {
     "data": {
      "text/plain": [
       "<AxesSubplot:xlabel='Selling_Price'>"
      ]
     },
     "execution_count": 66,
     "metadata": {},
     "output_type": "execute_result"
    },
    {
     "data": {
      "image/png": "[encoded data removed]",
      "text/plain": [
       "<Figure size 432x288 with 1 Axes>"
      ]
     },
     "metadata": {
      "needs_background": "light"
     },
     "output_type": "display_data"
    }
   ],
   "source": [
    "sns.scatterplot(Y_test,predict_rfreg)"
   ]
  },
  {
   "cell_type": "code",
   "execution_count": null,
   "id": "86654140",
   "metadata": {},
   "outputs": [],
   "source": []
  },
  {
   "cell_type": "code",
   "execution_count": 51,
   "id": "204e02c1",
   "metadata": {},
   "outputs": [],
   "source": [
    "#random forest regression"
   ]
  },
  {
   "cell_type": "code",
   "execution_count": 67,
   "id": "2a736af9",
   "metadata": {},
   "outputs": [
    {
     "name": "stdout",
     "output_type": "stream",
     "text": [
      "2.9276432294925465\n"
     ]
    }
   ],
   "source": [
    "knnreg = KNeighborsRegressor(n_neighbors = 200)\n",
    "knnreg.fit(X_train.values,Y_train.values)\n",
    "rmse = (mean_squared_error(Y_test,knnreg.predict(X_test))**0.5)\n",
    "print(rmse)"
   ]
  },
  {
   "cell_type": "code",
   "execution_count": 68,
   "id": "c4ac29e4",
   "metadata": {
    "scrolled": true
   },
   "outputs": [
    {
     "data": {
      "text/plain": [
       "array([4.6874 , 4.788  , 4.6874 , 4.6874 , 4.6874 , 4.6874 , 4.6874 ,\n",
       "       4.78595, 4.8601 , 4.6874 , 4.6874 , 4.9228 , 4.6874 , 4.812  ,\n",
       "       4.9448 , 4.6874 , 4.96455, 4.7258 , 4.8572 , 4.7258 , 4.6874 ,\n",
       "       4.77325, 5.18865, 4.6874 , 5.08015, 4.8217 , 5.0764 , 4.6874 ,\n",
       "       5.10755, 4.788  , 4.788  ])"
      ]
     },
     "execution_count": 68,
     "metadata": {},
     "output_type": "execute_result"
    }
   ],
   "source": [
    "predict_knnreg = knnreg.predict(X_test)\n",
    "predict_knnreg"
   ]
  },
  {
   "cell_type": "code",
   "execution_count": 69,
   "id": "58ff947a",
   "metadata": {
    "scrolled": true
   },
   "outputs": [
    {
     "data": {
      "text/plain": [
       "array([4.8006 , 4.8213 , 4.8162 , 4.8175 , 4.8175 , 4.87885, 4.6874 ,\n",
       "       4.73455, 4.70935, 4.9448 , 4.8572 , 4.6874 , 4.78595, 4.9943 ,\n",
       "       4.8006 , 4.9448 , 4.8572 , 4.7372 , 4.6874 , 4.80305, 4.6874 ,\n",
       "       4.6874 , 5.10755, 4.6874 , 5.0353 , 5.18865, 4.6874 , 4.7258 ,\n",
       "       4.77565, 4.6874 , 4.6874 , 4.6874 , 4.9943 , 4.80305, 4.6874 ,\n",
       "       5.10755, 4.6874 , 5.10755, 4.70935, 4.6874 , 4.78595, 5.1069 ,\n",
       "       4.6874 , 4.6874 , 5.0353 , 4.6874 , 4.6874 , 4.6874 , 4.6874 ,\n",
       "       4.6874 , 4.6874 , 5.0353 , 4.6874 , 4.6874 , 4.7258 , 4.6874 ,\n",
       "       4.6874 , 4.6874 , 4.6874 , 4.6874 , 4.6874 , 4.7372 , 4.9894 ,\n",
       "       5.0353 , 4.7878 , 4.6874 , 4.9448 , 4.78595, 5.0353 , 4.6874 ,\n",
       "       4.79615, 4.9228 , 5.18865, 4.6874 , 4.6874 , 4.9228 , 4.6874 ,\n",
       "       4.6874 , 4.9448 , 4.8175 , 4.6874 , 5.0353 , 4.80555, 4.8601 ,\n",
       "       5.0353 , 4.6874 , 5.10755, 4.71865, 4.76035, 4.6874 , 4.8058 ,\n",
       "       4.6874 , 4.6874 , 4.6874 , 4.7258 , 4.8175 , 4.6874 , 4.9448 ,\n",
       "       4.87885, 4.9228 , 4.77325, 5.06105, 4.6874 , 4.78195, 4.6874 ,\n",
       "       4.6874 , 5.06105, 5.10755, 5.10755, 4.8476 , 4.6874 , 4.6874 ,\n",
       "       4.6874 , 4.6874 , 5.08015, 4.6874 , 5.0353 , 4.6874 , 4.6874 ,\n",
       "       4.8572 , 4.8006 , 4.6874 , 4.77315, 4.6874 , 4.6874 , 4.6874 ,\n",
       "       4.7012 , 4.7012 , 4.77325, 4.9943 , 5.00265, 4.9679 , 4.6874 ,\n",
       "       4.8213 , 4.71865, 4.80555, 4.77565, 4.6874 , 5.10755, 4.6874 ,\n",
       "       4.9894 , 4.6874 , 4.9448 , 5.10755, 4.9448 , 4.7258 , 5.0353 ,\n",
       "       4.6874 , 4.6874 , 5.10755, 4.6874 , 4.6874 , 4.8175 , 5.18865,\n",
       "       4.70935, 5.10755, 4.7258 , 4.6874 , 5.10755, 4.6874 , 4.8175 ,\n",
       "       4.6874 , 4.87835, 5.10755, 4.80555, 4.7949 , 4.9448 , 4.8572 ,\n",
       "       4.6874 , 4.8217 , 4.6874 , 4.9448 , 4.6874 , 4.73455, 4.6874 ,\n",
       "       5.0353 , 4.8572 , 4.9543 , 4.9894 , 4.6874 , 4.8601 , 4.6874 ,\n",
       "       4.6874 , 4.6874 , 4.87885, 4.87835, 4.6874 , 4.6874 , 4.6874 ,\n",
       "       4.6874 , 4.87885, 5.00265, 4.87885, 4.7258 , 4.6874 , 4.85835,\n",
       "       5.10755, 4.6874 , 5.10755, 5.10755, 4.9894 , 5.1069 , 5.06105,\n",
       "       4.73455, 5.0353 , 4.73455, 4.6874 , 4.6874 , 4.6874 , 4.812  ,\n",
       "       4.6874 , 4.6874 , 4.77325, 4.9448 , 4.6874 , 4.6874 , 4.6874 ,\n",
       "       4.8175 , 4.80505, 4.6874 , 4.6874 , 4.87885, 4.78595, 4.6874 ,\n",
       "       4.6874 , 4.7258 , 4.7084 , 4.6874 , 4.966  , 4.6874 , 4.78595,\n",
       "       4.6874 , 5.0353 , 5.1069 , 4.9228 , 4.6874 , 4.81295, 4.6874 ,\n",
       "       4.96455, 4.6874 , 4.6874 , 4.8175 , 4.6874 , 4.8175 , 4.6874 ,\n",
       "       4.78595, 4.9448 , 4.8186 , 4.6874 , 5.18865, 4.8572 , 4.8572 ,\n",
       "       5.18865, 5.18865, 4.6874 , 4.87835, 5.0353 , 4.73455, 4.6874 ,\n",
       "       4.9448 , 5.10755, 4.7258 , 4.6874 , 4.73455, 4.6874 , 5.0353 ,\n",
       "       5.0353 , 5.0353 , 4.6874 , 4.9679 ])"
      ]
     },
     "execution_count": 69,
     "metadata": {},
     "output_type": "execute_result"
    }
   ],
   "source": [
    "predict_knnreg_train = knnreg.predict(X_train)\n",
    "predict_knnreg_train"
   ]
  },
  {
   "cell_type": "code",
   "execution_count": 70,
   "id": "bc1dea76",
   "metadata": {},
   "outputs": [
    {
     "data": {
      "text/plain": [
       "-409.2755529250574"
      ]
     },
     "execution_count": 70,
     "metadata": {},
     "output_type": "execute_result"
    }
   ],
   "source": [
    "r2_score(predict_knnreg, Y_test)"
   ]
  },
  {
   "cell_type": "code",
   "execution_count": 71,
   "id": "7e37aeb6",
   "metadata": {},
   "outputs": [
    {
     "data": {
      "text/plain": [
       "-1204.1364095200158"
      ]
     },
     "execution_count": 71,
     "metadata": {},
     "output_type": "execute_result"
    }
   ],
   "source": [
    "r2_score(predict_knnreg_train, Y_train)"
   ]
  },
  {
   "cell_type": "code",
   "execution_count": 72,
   "id": "7b3b220b",
   "metadata": {
    "scrolled": true
   },
   "outputs": [
    {
     "data": {
      "text/plain": [
       "<AxesSubplot:xlabel='Selling_Price', ylabel='Density'>"
      ]
     },
     "execution_count": 72,
     "metadata": {},
     "output_type": "execute_result"
    },
    {
     "data": {
      "image/png": "[encoded data removed]",
      "text/plain": [
       "<Figure size 432x288 with 1 Axes>"
      ]
     },
     "metadata": {
      "needs_background": "light"
     },
     "output_type": "display_data"
    }
   ],
   "source": [
    "sns.distplot(Y_test-predict_knnreg)"
   ]
  },
  {
   "cell_type": "code",
   "execution_count": 73,
   "id": "e47a77ee",
   "metadata": {
    "scrolled": false
   },
   "outputs": [
    {
     "data": {
      "text/plain": [
       "<AxesSubplot:xlabel='Selling_Price'>"
      ]
     },
     "execution_count": 73,
     "metadata": {},
     "output_type": "execute_result"
    },
    {
     "data": {
      "image/png": "[encoded data removed]",
      "text/plain": [
       "<Figure size 432x288 with 1 Axes>"
      ]
     },
     "metadata": {
      "needs_background": "light"
     },
     "output_type": "display_data"
    }
   ],
   "source": [
    "sns.scatterplot(Y_test,predict_knnreg)"
   ]
  },
  {
   "cell_type": "code",
   "execution_count": 74,
   "id": "3c539eb2",
   "metadata": {},
   "outputs": [],
   "source": [
    "import pickle\n",
    "file = open('random_forest_regression_model.pkl','wb')\n",
    "pickle.dump(rfreg,file)"
   ]
  },
  {
   "cell_type": "code",
   "execution_count": null,
   "id": "710ec3bd",
   "metadata": {},
   "outputs": [],
   "source": []
  }
 ],
 "metadata": {
  "kernelspec": {
   "display_name": "Python 3",
   "language": "python",
   "name": "python3"
  },
  "language_info": {
   "codemirror_mode": {
    "name": "ipython",
    "version": 3
   },
   "file_extension": ".py",
   "mimetype": "text/x-python",
   "name": "python",
   "nbconvert_exporter": "python",
   "pygments_lexer": "ipython3",
   "version": "3.8.8"
  }
 },
 "nbformat": 4,
 "nbformat_minor": 5
}
